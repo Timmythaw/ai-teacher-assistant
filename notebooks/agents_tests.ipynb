{
 "cells": [
  {
   "cell_type": "code",
   "execution_count": 9,
   "id": "e041d749",
   "metadata": {},
   "outputs": [],
   "source": [
    "from IPython.display import Markdown, display"
   ]
  },
  {
   "cell_type": "markdown",
   "id": "510924e7",
   "metadata": {},
   "source": [
    "## Json Validate Test"
   ]
  },
  {
   "cell_type": "code",
   "execution_count": 2,
   "id": "34d50f74",
   "metadata": {},
   "outputs": [],
   "source": [
    "import sys\n",
    "sys.path.append(\"..\")\n",
    "from agents.orchestra import validate_json_schema"
   ]
  },
  {
   "cell_type": "code",
   "execution_count": 3,
   "id": "648b16a7",
   "metadata": {},
   "outputs": [
    {
     "name": "stdout",
     "output_type": "stream",
     "text": [
      "True {'tasks': [{'step': 1, 'action': 'generate_lesson_plan', 'input': 'outline.pdf'}]}\n"
     ]
    }
   ],
   "source": [
    "raw = '{\"tasks\":[{\"step\":1,\"action\":\"generate_lesson_plan\",\"input\":\"outline.pdf\"}]}'\n",
    "ok, data = validate_json_schema(raw, [\"tasks\"])\n",
    "print(ok, data)"
   ]
  },
  {
   "cell_type": "markdown",
   "id": "ec1fc1a3",
   "metadata": {},
   "source": [
    "## PDF Extract and Text Clean Test"
   ]
  },
  {
   "cell_type": "code",
   "execution_count": 6,
   "id": "4601f4dd",
   "metadata": {},
   "outputs": [],
   "source": [
    "import sys\n",
    "sys.path.append(\"..\")\n",
    "from core.pdf_tool import extract_text_from_pdf"
   ]
  },
  {
   "cell_type": "code",
   "execution_count": 7,
   "id": "0c337f3f",
   "metadata": {},
   "outputs": [],
   "source": [
    "material_text = extract_text_from_pdf(\"/home/timmy/ai-teacher-assistant/static/2025_CH00-SRAS_Introduction.pptx.pdf\")"
   ]
  },
  {
   "cell_type": "code",
   "execution_count": 10,
   "id": "5ea8d61d",
   "metadata": {},
   "outputs": [
    {
     "data": {
      "text/markdown": [
       "Software Requirements Analysis and Specification A J. Pr asara J akkaew Email: prasara.jak@mfu.ac.th Academic Y ear / S chool of Information T echnology, Mae F ah Luang University 2Course Description ●Requirements elicitation; ●Requirements analysis; ●Requirements negotiation; ●Requirements specification; ●Requirements validation; ●Formal specification. ●Techniques and tools used to define; ●Document and ensure customer satisfaction  Course Objective •To perform requirements engineering in the context of the most common software development life cycles and processes •To introduce techniques for requirements elicitation and analysis •To develop functional and non-functional requirements •To create a requirements specification to communicate requirements to a broad set of stakeholders •To effectively analyze requirements and prioritize accordingly Google Class Code tnaxwix7 For announcement 4https://classroom.google.com/c/N zgzM T g5NDk0MDc3?cjc=tnaxwix7 Google Form : For Quiz and Participant  https://forms.gle/ZKymd4teuaijDDvE7 Introduction to software requirement engineering What is software requirement engineering, software requirement principles, software process requirements, functional and nonfunctional requirements, system requirements and software requirements Requirements Process ● Process Models ● Process Actors ● Process Quality and Improvement ● Software Requirement Modeling (UML) for example; Use case diagram, Activity Diagrams, Workflow Requirements Elicitation ● Requirements Sources ● Elicitation Techniques Requirements Analysis ● Requirements Classification ● Conceptual Modeling ● Architectural Design and Requirements Allocation ● Requirements Negotiation ● Formal Analysis Course Outline Requirements Specification ● System Definition Document ● System Requirements Specification ● Software Requirements Specification Requirements Validation ● Requirements Reviews ● Prototyping ● Model Validation ● Acceptance Tests Course Outline 8Lesson Plan: Before Midterm Exam W eek\\ Date T opics   Aug  Course Introduction   Aug  (Holiday) No Class   Aug  (Sci Day) Chapter : Introduction to software requirement engineering   Aug  Chapter : Requirements Engineering Process   Sep  Chapter : Requirement Elicitation Part#   Sep  Assignment : Interview your stakeholders   Sep  Assignment : Interview your stakeholders   Sep  (no class) Presentation  9Lesson Plan: After Midterm Exam W eek Date T opics   Sep  (Midterm) No Class   Oct  Chapter : Requirement Analysis   Oct  (holiday) No Class (Workshop Checklist & Consult) ONLINE   Oct  Chapter : Requirement Specification   Oct  Chapter : Requirement Validation   Workshop Checklist & Consult   Nov  Final Presentation   Nov  Final Presentation  Final Exam No Class Evaluation ● Midterm % ● Final % ● Group Project % ● Quiz and Assignment % ● Participation % ●Software Requirements will collaborate with Database and Web application development ●Group Work ■- members /  group ●Topic: Freestyle ●Link group member: Project and Assignment https://docs.google.com/spreadsheets/d/1_O6S KZ_fF Mz7K jypS O W14Q S C_0liDPfoOC-iA Yt4oE w/edit?usp=sharing  Grading A - B+ - B - C+ - C - D+ - D - F -  Teaching Rules •Students are required to attend all classes . •Check-in class and sometime has a quiz •The assignment has to send it to be on time before the deadline. If you turn in late , it means you will get  point .   Introduction to Software Requirements  Software Development Life Cycle What is ?  Software Development Life Cycle (SDLC) model is a simplified representation of a “Software Development Process Models”. ●SDLC is a framework defining tasks performed at each step in the software development process. ●The roadmap to building high quality software products is software process. ●Different life cycle models may plan the necessary development activities to phases in different ways.  ●Following are the most important and popular SDLC models followed in the industry ○Waterfall Model ○V-Modell ○Spiral Model ○Iterative Mode Other related methodologies are Agile Model, Incremental Model, Rapid Application Development Model (RAD) Model, and Prototyping Models.  Requirements Analysis and Specification •Consultation •System users/Customer System and software design •System architecture •UXUI Implementation and unit testing •Programmer Integration and system testing •Tester Operation and maintenance •Support team Waterfall Model     “The following phase should not be start until the previous phase has finished”  The aim of the requirement analysis and specification phase is to understand the exact requirements of the customer and document them properly. This phase consists of two different activities. Requirements Analysis and Specification Waterfall Model  https://www.geeksforgeeks.org/software-engineering-classical-waterfall-m odel/ . Requirement gathering and analysis: Firstly all the requirements regarding the software are gathered from the customer and then the gathered requirements are analyzed. . Requirement specification: These analyzed requirements are documented in a software requirement specification (SRS) document. SRS document serves as a contract between development team and customers .  Why do we need user research? Customer insights Function Priority Usability Understand what Problems customers want solved Analyze how important These problems are to customersWhat products and features we can develop to solve these problems R esource from S lideshare :: J oan Lumanauw SurveysInterviewsFocus Group  The aim of the design phase is to transform the requirements specified in the SRS document into a structure that is suitable for implementation in some programming language. It defines the overall software architecture together with high level and detailed design. All this work is documented as a Software Design Document (SDD). System and software design Waterfall Model  https://www.geeksforgeeks.org/software-engineering-classical-waterfall-m odel/ ● Plan the programming language, for Example Java , PHP , ASP .net ● or database like Oracle, MySQL, etc. ● Or other high-level technical details of the project Example:  This phase aims to transform the requirements gathered in the SRS into a suitable form which permits further coding in a programming language. With inputs from the system design, the system is first developed in small programs called units, which are integrated in the next phase. Each unit is developed and tested for its functionality, which is referred to as Unit Testing. Implementation and unit testing Waterfall Model  Input x Function f() Output y Unit Testing  All the units developed in the implementation phase are integrated into a system after testing of each unit. Post integration the entire system is tested for any faults and failures. System testing consists three diﬀerent kinds of testing activities as described below :Integration and system testing Waterfall Model  ●Alpha testing: Alpha testing is the system testing performed by the development team. ●Beta testing: Beta testing is the system testing performed by a friendly set of customers. ●Acceptance testing: After the software has been delivered, the customer performed the acceptance testing to determine whether to accept the delivered software or to reject it. https://www.geeksforgeeks.org/software-engineering-classical-waterfall-m od e l/  Maintenance is the most important phase of a software life cycle. The effort spent on maintenance is the % of the total effort spent to develop a full software. There are some issues which come up in the client environment. To fix those issues, patches are released. Also to enhance the product some better versions are released. Maintenance is done to deliver these changes in the customer environment. Operation and maintenance Waterfall Model  https://www.geeksforgeeks.org/software-engineering-classical-waterfall-m odel/  Verification and validation are the processes of confirming that systems engineering artifacts generated during the transformation processes are acceptable J ournal R eference by M ike Ryan and Louis S Wheatcraft On the U se of the T erms V eriﬁcation and V alidation : J u ly 2017I NC O S E I nternational Symposium ():- V Model  Verification and Validation and the Systems Engineering \" V \" Model V Model J ournal R eference by M ike Ryan and Louis S Wheatcraft On the U se of the T erms V eriﬁcation and V alidation : J u ly 2017I NC O S E I nternational Symposium ():- Stakeholder Requirements System Requirements System Integration Verification Development Unit/Component Requirements Subsystem Requirements Acceptance/Operational Evaluation and Validation Subsystem Integration Verification Unit/Component Verification Stakeholder Needs PRODUCT Requirement & Design Verification & Validation System Integration, Verification, & Validation Requirement & Development, Decomposition, Definition, & Design Concept Development Design Production Operations Product Lifecycle  Requirement Engineering  What is requirements engineering?  ●Requirement engineering is usually the first step in any software development life cycle ●The process to gather the software requirements from client, analyze and document them is known as requirement engineering. ●The goal of requirement engineering is to create and maintain detailed ‘System Requirements Specification' documents. R esource by https://medium.com/omarelgabrys-blog/software-engineering-process-activit ies-part--ca1ef6818fd6 ●Ensures your software will meet the user expectations, and ending up with a high-quality software 29What is requirements engineering? What is requirements engineering? ●Software requirements engineering is the process of determining what will be developed in a software system. ●The  steps of software requirements engineering are ○Requirements elicitation , ○Requirements analysis , ○Requirements specification , ○Requirements validation .  •Stakeholders point of view •Project scope •Business objectives •Users point of view (UI) •User Goals •Functional Requirements •What the system does •Non-Functional Requirements User Requirements System Requirements Business Requirements Understand Requirements Types  Understanding Documenting Systematic Agreement What is Requirements Engineering?  Elicitation V alidation Anal ysis Specification Identifying, Discovering R esource by D. Monett–Europe W eek2015, University of Hertfordshire, Hatﬁeld Evaluation, Verifying Classifying, Representing, Deriving, Negotiating Documenting, SRS Close gapsclarify Confirm and correct rewrite re-evaluate The Requirement Development Processes     Requirement Engineering Software Requirements Fundamentals We will learn …… Software Process Model Requirement Elicitation Requirement Analysis Requirement Documentation Requirement Validation Practical Consideration"
      ],
      "text/plain": [
       "<IPython.core.display.Markdown object>"
      ]
     },
     "metadata": {},
     "output_type": "display_data"
    }
   ],
   "source": [
    "display(Markdown(material_text))"
   ]
  },
  {
   "cell_type": "markdown",
   "id": "22468d76",
   "metadata": {},
   "source": [
    "## Assessment Generator Agent Test"
   ]
  },
  {
   "cell_type": "code",
   "execution_count": 41,
   "id": "e6695ffb",
   "metadata": {},
   "outputs": [],
   "source": [
    "import sys\n",
    "sys.path.append('..')\n",
    "from agents.lesson_plan_agent import LessonPlanAgent"
   ]
  },
  {
   "cell_type": "code",
   "execution_count": 42,
   "id": "707ede35",
   "metadata": {},
   "outputs": [
    {
     "name": "stdout",
     "output_type": "stream",
     "text": [
      "{'error': 'Model did not return valid JSON.'}\n"
     ]
    }
   ],
   "source": [
    "lp_agent = LessonPlanAgent()\n",
    "plan = lp_agent.generate_plan({\"course_outline\": \"/home/timmy/ai-teacher-assistant/static/SRAS_Course_Outline.pdf\"}, 8, 30, 1)\n",
    "print(plan)"
   ]
  },
  {
   "cell_type": "markdown",
   "id": "93e56d15",
   "metadata": {},
   "source": [
    "## Assessment Agent Test"
   ]
  },
  {
   "cell_type": "code",
   "execution_count": 1,
   "id": "1894303b",
   "metadata": {},
   "outputs": [],
   "source": [
    "import sys\n",
    "sys.path.append('..')\n",
    "from agents.assessment_agent import AssessmentAgent\n",
    "from core.logger import logger\n",
    "from IPython.display import display, Markdown"
   ]
  },
  {
   "cell_type": "code",
   "execution_count": 2,
   "id": "be560776",
   "metadata": {},
   "outputs": [
    {
     "name": "stderr",
     "output_type": "stream",
     "text": [
      "2025-08-24 14:26:58 | INFO | agent | LessonPlanAgent started with inputs: {'type': 'MCQ', 'difficulty': 'Medium', 'count': 5, 'rubric': True}\n",
      "2025-08-24 14:26:58 | INFO | agent | Extracted text from PDF: /home/timmy/ai-teacher-assistant/static/Lecture_Slide.pdf (length=7438)\n",
      "2025-08-24 14:27:03 | ERROR | agent | Model did not return valid JSON. Raw output: {\n",
      "  \"type\": \"MCQ\",\n",
      "  \"difficulty\": \"Medium\",\n",
      "  \"questions\": [\n",
      "    {\n",
      "      \"q\": \"Which of the following best describes the Software Development Life Cycle (SDLC)?\",\n",
      "      \"options\": [\n",
      "        \"A set of programming languages used in software development\",\n",
      "        \"A framework defining tasks performed at each step in the software development process\",\n",
      "        \"A testing methodology for debugging software\",\n",
      "        \"A tool for managing customer requirements\"\n",
      "      ],\n",
      "      \"answer\": \"A framework defining tasks performed at each step in the software development process\"\n",
      "    },\n",
      "    {\n",
      "      \"q\": \"In the Waterfall Model, what is the main principle regarding the sequence of phases?\",\n",
      "      \"options\": [\n",
      "        \"Phases can overlap and run in parallel\",\n",
      "        \"Each phase must be completed before the next one begins\",\n",
      "        \"Phases are repeated iteratively until customer satisfaction is achieved\",\n",
      "        \"Testing is performed before implementation\"\n",
      "      ],\n",
      "      \"answer\": \"Each phase must be completed before the next one begins\"\n",
      "    },\n",
      "    {\n",
      "      \"q\": \"Which of the following is NOT one of the testing types in the Waterfall Model’s system testing phase?\",\n",
      "      \"options\": [\n",
      "        \"Alpha Testing\",\n",
      "        \"Beta Testing\",\n",
      "        \"Acceptance Testing\",\n",
      "        \"Exploratory Testing\"\n",
      "      ],\n",
      "      \"answer\": \"Exploratory Testing\"\n",
      "    },\n",
      "    {\n",
      "      \"q\": \"What is the primary goal of Requirement Engineering?\",\n",
      "      \"options\": [\n",
      "        \"To design the system architecture\",\n",
      "        \"To create and maintain detailed System Requirements Specification (SRS) documents\",\n",
      "        \"To perform unit testing of individual modules\",\n",
      "        \"To integrate subsystems into a complete system\"\n",
      "      ],\n",
      "      \"answer\": \"To create and maintain detailed System Requirements Specification (SRS) documents\"\n",
      "    },\n",
      "    {\n",
      "      \"q\": \"Which of the following activities is part of Requirement Engineering?\",\n",
      "      \"options\": [\n",
      "        \"Requirements elicitation, analysis, specification, and validation\",\n",
      "        \"Coding, debugging, testing, and deployment\",\n",
      "        \"Designing, prototyping, coding, and maintenance\",\n",
      "        \"Integration, acceptance testing, and patch management\"\n",
      "      ],\n",
      "      \"answer\": \"Requirements elicitation, analysis, specification, and validation\"\n",
      "    }\n",
      "  ],\n",
      "  \"rubric\": [\n",
      "    {\n",
      "      \"criteria\": \"Correct answer selected\",\n",
      "      \"points\": 2\n",
      "    },\n",
      "    {\n",
      "      \"criteria\": \"Partially correct reasoning (if explanation provided in addition to MCQ)\",\n",
      "     \n"
     ]
    },
    {
     "name": "stdout",
     "output_type": "stream",
     "text": [
      "{\n",
      "  \"type\": \"MCQ\",\n",
      "  \"difficulty\": \"Medium\",\n",
      "  \"questions\": [\n",
      "    {\n",
      "      \"q\": \"Which of the following best describes the Software Development Life Cycle (SDLC)?\",\n",
      "      \"options\": [\n",
      "        \"A set of programming languages used in software development\",\n",
      "        \"A framework defining tasks performed at each step in the software development process\",\n",
      "        \"A testing methodology for debugging software\",\n",
      "        \"A tool for managing customer requirements\"\n",
      "      ],\n",
      "      \"answer\": \"A framework defining tasks performed at each step in the software development process\"\n",
      "    },\n",
      "    {\n",
      "      \"q\": \"In the Waterfall Model, what is the main principle regarding the sequence of phases?\",\n",
      "      \"options\": [\n",
      "        \"Phases can overlap and run in parallel\",\n",
      "        \"Each phase must be completed before the next one begins\",\n",
      "        \"Phases are repeated iteratively until customer satisfaction is achieved\",\n",
      "        \"Testing is performed before implementation\"\n",
      "      ],\n",
      "      \"answer\": \"Each phase must be completed before the next one begins\"\n",
      "    },\n",
      "    {\n",
      "      \"q\": \"Which of the following is NOT one of the testing types in the Waterfall Model’s system testing phase?\",\n",
      "      \"options\": [\n",
      "        \"Alpha Testing\",\n",
      "        \"Beta Testing\",\n",
      "        \"Acceptance Testing\",\n",
      "        \"Exploratory Testing\"\n",
      "      ],\n",
      "      \"answer\": \"Exploratory Testing\"\n",
      "    },\n",
      "    {\n",
      "      \"q\": \"What is the primary goal of Requirement Engineering?\",\n",
      "      \"options\": [\n",
      "        \"To design the system architecture\",\n",
      "        \"To create and maintain detailed System Requirements Specification (SRS) documents\",\n",
      "        \"To perform unit testing of individual modules\",\n",
      "        \"To integrate subsystems into a complete system\"\n",
      "      ],\n",
      "      \"answer\": \"To create and maintain detailed System Requirements Specification (SRS) documents\"\n",
      "    },\n",
      "    {\n",
      "      \"q\": \"Which of the following activities is part of Requirement Engineering?\",\n",
      "      \"options\": [\n",
      "        \"Requirements elicitation, analysis, specification, and validation\",\n",
      "        \"Coding, debugging, testing, and deployment\",\n",
      "        \"Designing, prototyping, coding, and maintenance\",\n",
      "        \"Integration, acceptance testing, and patch management\"\n",
      "      ],\n",
      "      \"answer\": \"Requirements elicitation, analysis, specification, and validation\"\n",
      "    }\n",
      "  ],\n",
      "  \"rubric\": [\n",
      "    {\n",
      "      \"criteria\": \"Correct answer selected\",\n",
      "      \"points\": 2\n",
      "    },\n",
      "    {\n",
      "      \"criteria\": \"Partially correct reasoning (if explanation provided in addition to MCQ)\",\n",
      "     \n",
      "{'error': 'Model did not return valid JSON.'}\n"
     ]
    }
   ],
   "source": [
    "asmt_agent = AssessmentAgent()\n",
    "assessment = asmt_agent.generate_assessment(\n",
    "    \"/home/timmy/ai-teacher-assistant/static/Lecture_Slide.pdf\",\n",
    "    {\"type\": \"MCQ\", \"difficulty\": \"Medium\", \"count\": 5, \"rubric\": True}\n",
    ")\n",
    "print(assessment)"
   ]
  },
  {
   "cell_type": "code",
   "execution_count": 3,
   "id": "767f4faa",
   "metadata": {},
   "outputs": [
    {
     "name": "stderr",
     "output_type": "stream",
     "text": [
      "2025-08-24 14:30:35 | INFO | agent | LessonPlanAgent started with inputs: {'type': 'MCQ', 'difficulty': 'Medium', 'count': 5, 'rubric': True}\n",
      "2025-08-24 14:30:35 | INFO | agent | Extracted text from PDF: /home/timmy/ai-teacher-assistant/static/Lecture_Slide.pdf (length=7438)\n",
      "2025-08-24 14:30:42 | INFO | agent | AssessmentAgent successfully generated assessment with 5 questions\n"
     ]
    },
    {
     "name": "stdout",
     "output_type": "stream",
     "text": [
      "{\n",
      "  \"title\": \"Assessment on Software Requirements and SDLC\",\n",
      "  \"type\": \"MCQ\",\n",
      "  \"difficulty\": \"Medium\",\n",
      "  \"questions\": [\n",
      "    {\n",
      "      \"q\": \"Which of the following best describes the Software Development Life Cycle (SDLC)?\",\n",
      "      \"options\": [\n",
      "        \"A set of programming languages used in software development\",\n",
      "        \"A framework defining tasks performed at each step in the software development process\",\n",
      "        \"A testing methodology for debugging software\",\n",
      "        \"A tool used for project management\"\n",
      "      ],\n",
      "      \"answer\": \"A framework defining tasks performed at each step in the software development process\"\n",
      "    },\n",
      "    {\n",
      "      \"q\": \"In the Waterfall Model, which statement is correct?\",\n",
      "      \"options\": [\n",
      "        \"All phases can be executed simultaneously\",\n",
      "        \"The next phase starts only after the previous phase is completed\",\n",
      "        \"Phases can be skipped if requirements are clear\",\n",
      "        \"Testing is performed before implementation\"\n",
      "      ],\n",
      "      \"answer\": \"The next phase starts only after the previous phase is completed\"\n",
      "    },\n",
      "    {\n",
      "      \"q\": \"Which document serves as a contract between the development team and the customer?\",\n",
      "      \"options\": [\n",
      "        \"Software Design Document (SDD)\",\n",
      "        \"Software Requirement Specification (SRS)\",\n",
      "        \"Project Charter\",\n",
      "        \"User Manual\"\n",
      "      ],\n",
      "      \"answer\": \"Software Requirement Specification (SRS)\"\n",
      "    },\n",
      "    {\n",
      "      \"q\": \"Which type of testing is performed by a friendly set of customers?\",\n",
      "      \"options\": [\n",
      "        \"Alpha Testing\",\n",
      "        \"Beta Testing\",\n",
      "        \"Acceptance Testing\",\n",
      "        \"Unit Testing\"\n",
      "      ],\n",
      "      \"answer\": \"Beta Testing\"\n",
      "    },\n",
      "    {\n",
      "      \"q\": \"Which of the following is NOT a step in requirements engineering?\",\n",
      "      \"options\": [\n",
      "        \"Requirements Elicitation\",\n",
      "        \"Requirements Analysis\",\n",
      "        \"Requirements Specification\",\n",
      "        \"System Deployment\"\n",
      "      ],\n",
      "      \"answer\": \"System Deployment\"\n",
      "    }\n",
      "  ],\n",
      "  \"rubric\": [\n",
      "    {\n",
      "      \"criteria\": \"Correct answer selected\",\n",
      "      \"points\": 2\n",
      "    },\n",
      "    {\n",
      "      \"criteria\": \"Incorrect answer selected\",\n",
      "      \"points\": 0\n",
      "    },\n",
      "    {\n",
      "      \"criteria\": \"Total possible points\",\n",
      "      \"points\": 10\n",
      "    }\n",
      "  ]\n",
      "}\n",
      "<class 'dict'> 5\n"
     ]
    }
   ],
   "source": [
    "# Re-run AssessmentAgent after parser hardening\n",
    "import importlib, sys\n",
    "sys.path.append('..')\n",
    "import agents.assessment_agent as aa\n",
    "importlib.reload(aa)\n",
    "from agents.assessment_agent import AssessmentAgent\n",
    "asmt_agent = AssessmentAgent()\n",
    "assessment = asmt_agent.generate_assessment(\n",
    "    \"/home/timmy/ai-teacher-assistant/static/Lecture_Slide.pdf\",\n",
    "    {\"type\": \"MCQ\", \"difficulty\": \"Medium\", \"count\": 5, \"rubric\": True}\n",
    ")\n",
    "print(type(assessment), len(assessment.get('questions', [])))"
   ]
  },
  {
   "cell_type": "code",
   "execution_count": 4,
   "id": "cdf17805",
   "metadata": {},
   "outputs": [],
   "source": [
    "import sys\n",
    "sys.path.append('..')\n",
    "from core.md_render import render_assessment_markdown, render_lesson_plan_markdown\n",
    "from IPython.display import display, Markdown\n"
   ]
  },
  {
   "cell_type": "code",
   "execution_count": 5,
   "id": "8bf73676",
   "metadata": {},
   "outputs": [
    {
     "data": {
      "text/markdown": [
       "# Assessment on Software Requirements and SDLC\n",
       "- Type: MCQ\n",
       "- Difficulty: Medium\n",
       "- Questions: 5\n",
       "\n",
       "## Questions\n",
       "**Q1. Which of the following best describes the Software Development Life Cycle (SDLC)?**\n",
       "- A. A set of programming languages used in software development\n",
       "- B. A framework defining tasks performed at each step in the software development process\n",
       "- C. A testing methodology for debugging software\n",
       "- D. A tool used for project management\n",
       "\n",
       "> Answer: **A framework defining tasks performed at each step in the software development process**\n",
       "\n",
       "**Q2. In the Waterfall Model, which statement is correct?**\n",
       "- A. All phases can be executed simultaneously\n",
       "- B. The next phase starts only after the previous phase is completed\n",
       "- C. Phases can be skipped if requirements are clear\n",
       "- D. Testing is performed before implementation\n",
       "\n",
       "> Answer: **The next phase starts only after the previous phase is completed**\n",
       "\n",
       "**Q3. Which document serves as a contract between the development team and the customer?**\n",
       "- A. Software Design Document (SDD)\n",
       "- B. Software Requirement Specification (SRS)\n",
       "- C. Project Charter\n",
       "- D. User Manual\n",
       "\n",
       "> Answer: **Software Requirement Specification (SRS)**\n",
       "\n",
       "**Q4. Which type of testing is performed by a friendly set of customers?**\n",
       "- A. Alpha Testing\n",
       "- B. Beta Testing\n",
       "- C. Acceptance Testing\n",
       "- D. Unit Testing\n",
       "\n",
       "> Answer: **Beta Testing**\n",
       "\n",
       "**Q5. Which of the following is NOT a step in requirements engineering?**\n",
       "- A. Requirements Elicitation\n",
       "- B. Requirements Analysis\n",
       "- C. Requirements Specification\n",
       "- D. System Deployment\n",
       "\n",
       "> Answer: **System Deployment**\n",
       "\n",
       "## Rubric\n",
       "| Criteria | Points |\n",
       "|---|---:|\n",
       "| Correct answer selected | 2 |\n",
       "| Incorrect answer selected |  |\n",
       "| Total possible points | 10 |"
      ],
      "text/plain": [
       "<IPython.core.display.Markdown object>"
      ]
     },
     "metadata": {},
     "output_type": "display_data"
    }
   ],
   "source": [
    "md = render_assessment_markdown(assessment)\n",
    "display(Markdown(md))"
   ]
  },
  {
   "cell_type": "code",
   "execution_count": 17,
   "id": "112af454",
   "metadata": {},
   "outputs": [],
   "source": [
    "import sys\n",
    "sys.path.append('..')\n",
    "import importlib\n",
    "from integrations import form_creator\n",
    "importlib.reload(form_creator)\n",
    "from integrations.form_creator import create_google_form\n",
    "from core.logger import logger"
   ]
  },
  {
   "cell_type": "code",
   "execution_count": 18,
   "id": "52021770",
   "metadata": {},
   "outputs": [
    {
     "name": "stderr",
     "output_type": "stream",
     "text": [
      "2025-08-24 06:10:56 | INFO | agent | Creating Google Form: SDLC Quizz 3\n"
     ]
    },
    {
     "name": "stdout",
     "output_type": "stream",
     "text": [
      "\n",
      "---Results---\n",
      "{'form_id': '1BcvkGQIHagsxpDULOUbRpdmLY7IxZTxtnKFQd2Xq81k', 'edit_url': 'https://docs.google.com/forms/d/1BcvkGQIHagsxpDULOUbRpdmLY7IxZTxtnKFQd2Xq81k/edit', 'email_collection': 'VERIFIED', 'answer_keys_applied': 5}\n"
     ]
    }
   ],
   "source": [
    "result = create_google_form(assessment, title = \"SDLC Quizz 3\")\n",
    "print(\"\\n---Results---\")\n",
    "print(result)"
   ]
  },
  {
   "cell_type": "markdown",
   "id": "d239ec41",
   "metadata": {},
   "source": [
    "## Lesson Plan Agent Test"
   ]
  },
  {
   "cell_type": "code",
   "execution_count": 6,
   "id": "a513916c",
   "metadata": {},
   "outputs": [],
   "source": [
    "import sys\n",
    "sys.path.append('..')\n",
    "from agents.lesson_plan_agent import LessonPlanAgent"
   ]
  },
  {
   "cell_type": "code",
   "execution_count": 7,
   "id": "54cadedb",
   "metadata": {},
   "outputs": [
    {
     "name": "stderr",
     "output_type": "stream",
     "text": [
      "2025-08-24 14:41:46 | INFO | agent | LessonPlanAgent started with inputs: {'course_outline': '/home/timmy/ai-teacher-assistant/static/SRAS_Course_Outline.pdf'}\n",
      "2025-08-24 14:41:46 | INFO | agent | Extracted course outline: /home/timmy/ai-teacher-assistant/static/SRAS_Course_Outline.pdf (length=3397)\n",
      "2025-08-24 14:41:46 | INFO | agent | Extracted course outline: /home/timmy/ai-teacher-assistant/static/SRAS_Course_Outline.pdf (length=3397)\n",
      "2025-08-24 14:41:59 | INFO | agent | LessonPlanAgent successfully generated lesson plan (weeks=8, sections_per_week=1)\n",
      "2025-08-24 14:41:59 | INFO | agent | LessonPlanAgent successfully generated lesson plan (weeks=8, sections_per_week=1)\n"
     ]
    },
    {
     "name": "stdout",
     "output_type": "stream",
     "text": [
      "{'title': 'Software Requirements Analysis and Specification', 'metadata': {'course': 'Software Requirements Analysis and Specification', 'instructor': 'A. J. Prasara Jakkaew', 'academic_year': '2024', 'school': 'School of Information Technology, Mae Fah Luang University'}, 'lesson_title': 'Introduction to Software Requirement Engineering', 'total_duration': 8, 'class_size': 30, 'sections_per_week': 1, 'learning_objectives': ['Explain the principles of software requirement engineering', 'Apply elicitation techniques to gather requirements', 'Differentiate between functional and non-functional requirements', 'Develop and document a software requirements specification', 'Validate requirements using reviews, prototyping, and acceptance tests'], 'key_concepts': {'definition': 'Software Requirement Engineering is the process of defining, documenting, and maintaining software requirements.', 'role_in_sdlc': 'Forms the foundation for design, development, and testing phases.', 'goals': 'Ensure stakeholder needs are captured, analyzed, and validated.', 'importance': 'Prevents costly errors and ensures customer satisfaction.', 'reference_resources': ['https://www.tutorialspoint.com/software_engineering/software_requirements.htm', 'https://www.uml-diagrams.org/', 'https://www.coursera.org/learn/software-processes']}, 'teaching_strategies': ['Lecture with Diagram', 'Class Discussion', 'Think-Pair-Share', 'Case Study', 'Hands-on Workshop'], 'teaching_activities': [{'title': 'Introduction Lecture', 'duration_minutes': 30, 'description': 'Introduce software requirement engineering principles', 'steps': ['Present course objectives', 'Explain role of requirements in SDLC', 'Discuss importance of accurate requirements']}, {'title': 'Group Brainstorming', 'duration_minutes': 40, 'description': 'Students brainstorm requirements for a sample system', 'steps': ['Divide into groups', 'Identify functional and non-functional requirements', 'Share findings with class']}, {'title': 'Stakeholder Interview Simulation', 'duration_minutes': 50, 'description': 'Practice elicitation techniques', 'steps': ['Assign roles: interviewer, stakeholder', 'Conduct mock interviews', 'Document findings']}], 'assessment_evaluation': ['Quizzes on concepts', 'Group project with presentations', 'Midterm and final exams', 'Participation in discussions', 'Assignments on stakeholder interviews and requirement documents'], 'materials_needed': ['Projector', 'Whiteboard and markers', 'Laptops', 'Case study handouts', 'UML diagramming tools'], 'weekly_schedule': [{'week': 1, 'topic': 'Course Introduction & Basics of Requirement Engineering', 'learning_objectives': ['Understand course structure', 'Define software requirement engineering'], 'vocabulary': ['Requirement', 'Stakeholder', 'SDLC'], 'activities': ['Lecture', 'Class discussion'], 'materials': ['Slides', 'Whiteboard'], 'differentiation': ['Provide simplified notes for beginners', 'Challenge advanced students with case examples'], 'assessment': 'Participation in discussion', 'homework': 'Read introduction chapter', 'sections': [{'title': 'Introduction Session', 'activities': ['Lecture on course overview', 'Discussion on importance of requirements'], 'materials': ['Slides'], 'assessment': 'Short quiz on course objectives'}]}, {'week': 2, 'topic': 'Requirements Engineering Process', 'learning_objectives': ['Explain process models', 'Identify process actors'], 'vocabulary': ['Process Model', 'Actor', 'Quality'], 'activities': ['Lecture with diagram', 'Think-Pair-Share'], 'materials': ['Slides', 'Case study'], 'differentiation': ['Visual aids for visual learners', 'Discussion for auditory learners'], 'assessment': 'Quiz on process models', 'homework': 'Write a summary of process actors', 'sections': [{'title': 'Process Models', 'activities': ['Lecture', 'Group discussion'], 'materials': ['Slides'], 'assessment': 'Quiz'}]}, {'week': 3, 'topic': 'Requirements Elicitation', 'learning_objectives': ['Identify sources of requirements', 'Apply elicitation techniques'], 'vocabulary': ['Elicitation', 'Interview', 'Workshop'], 'activities': ['Role-play interview', 'Group brainstorming'], 'materials': ['Interview templates'], 'differentiation': ['Role-play for kinesthetic learners', 'Guided notes for others'], 'assessment': 'Stakeholder interview assignment', 'homework': 'Conduct stakeholder interview', 'sections': [{'title': 'Elicitation Techniques', 'activities': ['Role-play interview', 'Discussion'], 'materials': ['Templates'], 'assessment': 'Submission of interview notes'}]}, {'week': 4, 'topic': 'Requirements Analysis', 'learning_objectives': ['Classify requirements', 'Create conceptual models'], 'vocabulary': ['Functional', 'Non-functional', 'UML'], 'activities': ['UML diagram workshop'], 'materials': ['Diagramming software'], 'differentiation': ['Provide UML templates for beginners', 'Advanced modeling tasks for others'], 'assessment': 'UML diagram submission', 'homework': 'Draw use case diagram', 'sections': [{'title': 'Conceptual Modeling', 'activities': ['Hands-on UML workshop'], 'materials': ['Software tools'], 'assessment': 'Diagram submission'}]}, {'week': 5, 'topic': 'Requirements Specification', 'learning_objectives': ['Write system definition document', 'Develop software requirements specification'], 'vocabulary': ['SRS', 'System Definition Document'], 'activities': ['Lecture', 'Specification writing workshop'], 'materials': ['SRS template'], 'differentiation': ['Provide writing scaffolds for beginners', 'Peer review for advanced learners'], 'assessment': 'Draft of SRS', 'homework': 'Complete SRS draft', 'sections': [{'title': 'Specification Writing', 'activities': ['Workshop on SRS'], 'materials': ['Template'], 'assessment': 'Draft submission'}]}, {'week': 6, 'topic': 'Requirements Validation', 'learning_objectives': ['Conduct requirements reviews', 'Use prototyping for validation'], 'vocabulary': ['Validation', 'Prototyping', 'Acceptance Test'], 'activities': ['Prototype review', 'Peer feedback'], 'materials': ['Prototype tools'], 'differentiation': ['Provide checklists for beginners', 'Advanced critique for others'], 'assessment': 'Validation report', 'homework': 'Revise requirements based on feedback', 'sections': [{'title': 'Validation Workshop', 'activities': ['Prototype review', 'Feedback session'], 'materials': ['Prototype tools'], 'assessment': 'Validation report'}]}, {'week': 7, 'topic': 'Group Project Development', 'learning_objectives': ['Apply requirement engineering concepts to project', 'Collaborate effectively in teams'], 'activities': ['Group work on project'], 'materials': ['Project guidelines'], 'differentiation': ['Assign roles based on strengths', 'Provide extra support for weaker groups'], 'assessment': 'Project progress presentation', 'homework': 'Prepare final project', 'sections': [{'title': 'Project Workshop', 'activities': ['Team collaboration', 'Instructor consultation'], 'materials': ['Guidelines'], 'assessment': 'Progress presentation'}]}, {'week': 8, 'topic': 'Final Presentation & Review', 'learning_objectives': ['Present project outcomes', 'Reflect on learning'], 'activities': ['Group presentations', 'Class reflection'], 'materials': ['Presentation tools'], 'differentiation': ['Encourage concise presentations', 'Provide feedback forms'], 'assessment': 'Final presentation', 'homework': 'Prepare for final exam', 'sections': [{'title': 'Final Presentation', 'activities': ['Group presentations', 'Feedback session'], 'materials': ['Projector'], 'assessment': 'Final project evaluation'}]}], 'external_resources': ['Sommerville, I. (2011). Software Engineering (9th Edition)', 'https://www.uml-diagrams.org/', 'https://www.coursera.org/learn/software-processes', 'https://forms.gle/ZKymd4teuaijDDvE7']}\n"
     ]
    }
   ],
   "source": [
    "import os\n",
    "lp_agent = LessonPlanAgent()\n",
    "plan = lp_agent.generate_plan({\"course_outline\": os.environ.get(\"COURSE_OUTLINE_PATH\")}, 8, 30, 1)\n",
    "print(plan)"
   ]
  },
  {
   "cell_type": "code",
   "execution_count": 9,
   "id": "9e7e8efe",
   "metadata": {},
   "outputs": [
    {
     "data": {
      "text/markdown": [
       "# Software Requirements Analysis and Specification\n",
       "\n",
       "- Lesson title: Introduction to Software Requirement Engineering\n",
       "- Total duration: 8\n",
       "- Class size: 30\n",
       "- Sections per week: 1\n",
       "\n",
       "\n",
       "## Weekly schedule\n",
       "\n",
       "### Week 1: Course Introduction & Basics of Requirement Engineering\n",
       "\n",
       "- Week: 1\n",
       "- Topic: Course Introduction & Basics of Requirement Engineering\n",
       "- Learning objectives:\n",
       "  - Understand course structure\n",
       "  - Define software requirement engineering\n",
       "- Vocabulary:\n",
       "  - Requirement\n",
       "  - Stakeholder\n",
       "  - SDLC\n",
       "- Activities:\n",
       "  - Lecture\n",
       "  - Class discussion\n",
       "- Materials:\n",
       "  - Slides\n",
       "  - Whiteboard\n",
       "- Differentiation:\n",
       "  - Provide simplified notes for beginners\n",
       "  - Challenge advanced students with case examples\n",
       "- Assessment: Participation in discussion\n",
       "- Homework: Read introduction chapter\n",
       "- Sections:\n",
       "  - Title: Introduction Session, Activities: [\"Lecture on course overview\", \"Discussion on importance of requirements\"], Materials: [\"Slides\"], Assessment: Short quiz on course objectives\n",
       "\n",
       "### Week 2: Requirements Engineering Process\n",
       "\n",
       "- Week: 2\n",
       "- Topic: Requirements Engineering Process\n",
       "- Learning objectives:\n",
       "  - Explain process models\n",
       "  - Identify process actors\n",
       "- Vocabulary:\n",
       "  - Process Model\n",
       "  - Actor\n",
       "  - Quality\n",
       "- Activities:\n",
       "  - Lecture with diagram\n",
       "  - Think-Pair-Share\n",
       "- Materials:\n",
       "  - Slides\n",
       "  - Case study\n",
       "- Differentiation:\n",
       "  - Visual aids for visual learners\n",
       "  - Discussion for auditory learners\n",
       "- Assessment: Quiz on process models\n",
       "- Homework: Write a summary of process actors\n",
       "- Sections:\n",
       "  - Title: Process Models, Activities: [\"Lecture\", \"Group discussion\"], Materials: [\"Slides\"], Assessment: Quiz\n",
       "\n",
       "### Week 3: Requirements Elicitation\n",
       "\n",
       "- Week: 3\n",
       "- Topic: Requirements Elicitation\n",
       "- Learning objectives:\n",
       "  - Identify sources of requirements\n",
       "  - Apply elicitation techniques\n",
       "- Vocabulary:\n",
       "  - Elicitation\n",
       "  - Interview\n",
       "  - Workshop\n",
       "- Activities:\n",
       "  - Role-play interview\n",
       "  - Group brainstorming\n",
       "- Materials:\n",
       "  - Interview templates\n",
       "- Differentiation:\n",
       "  - Role-play for kinesthetic learners\n",
       "  - Guided notes for others\n",
       "- Assessment: Stakeholder interview assignment\n",
       "- Homework: Conduct stakeholder interview\n",
       "- Sections:\n",
       "  - Title: Elicitation Techniques, Activities: [\"Role-play interview\", \"Discussion\"], Materials: [\"Templates\"], Assessment: Submission of interview notes\n",
       "\n",
       "### Week 4: Requirements Analysis\n",
       "\n",
       "- Week: 4\n",
       "- Topic: Requirements Analysis\n",
       "- Learning objectives:\n",
       "  - Classify requirements\n",
       "  - Create conceptual models\n",
       "- Vocabulary:\n",
       "  - Functional\n",
       "  - Non-functional\n",
       "  - UML\n",
       "- Activities:\n",
       "  - UML diagram workshop\n",
       "- Materials:\n",
       "  - Diagramming software\n",
       "- Differentiation:\n",
       "  - Provide UML templates for beginners\n",
       "  - Advanced modeling tasks for others\n",
       "- Assessment: UML diagram submission\n",
       "- Homework: Draw use case diagram\n",
       "- Sections:\n",
       "  - Title: Conceptual Modeling, Activities: [\"Hands-on UML workshop\"], Materials: [\"Software tools\"], Assessment: Diagram submission\n",
       "\n",
       "### Week 5: Requirements Specification\n",
       "\n",
       "- Week: 5\n",
       "- Topic: Requirements Specification\n",
       "- Learning objectives:\n",
       "  - Write system definition document\n",
       "  - Develop software requirements specification\n",
       "- Vocabulary:\n",
       "  - SRS\n",
       "  - System Definition Document\n",
       "- Activities:\n",
       "  - Lecture\n",
       "  - Specification writing workshop\n",
       "- Materials:\n",
       "  - SRS template\n",
       "- Differentiation:\n",
       "  - Provide writing scaffolds for beginners\n",
       "  - Peer review for advanced learners\n",
       "- Assessment: Draft of SRS\n",
       "- Homework: Complete SRS draft\n",
       "- Sections:\n",
       "  - Title: Specification Writing, Activities: [\"Workshop on SRS\"], Materials: [\"Template\"], Assessment: Draft submission\n",
       "\n",
       "### Week 6: Requirements Validation\n",
       "\n",
       "- Week: 6\n",
       "- Topic: Requirements Validation\n",
       "- Learning objectives:\n",
       "  - Conduct requirements reviews\n",
       "  - Use prototyping for validation\n",
       "- Vocabulary:\n",
       "  - Validation\n",
       "  - Prototyping\n",
       "  - Acceptance Test\n",
       "- Activities:\n",
       "  - Prototype review\n",
       "  - Peer feedback\n",
       "- Materials:\n",
       "  - Prototype tools\n",
       "- Differentiation:\n",
       "  - Provide checklists for beginners\n",
       "  - Advanced critique for others\n",
       "- Assessment: Validation report\n",
       "- Homework: Revise requirements based on feedback\n",
       "- Sections:\n",
       "  - Title: Validation Workshop, Activities: [\"Prototype review\", \"Feedback session\"], Materials: [\"Prototype tools\"], Assessment: Validation report\n",
       "\n",
       "### Week 7: Group Project Development\n",
       "\n",
       "- Week: 7\n",
       "- Topic: Group Project Development\n",
       "- Learning objectives:\n",
       "  - Apply requirement engineering concepts to project\n",
       "  - Collaborate effectively in teams\n",
       "- Activities:\n",
       "  - Group work on project\n",
       "- Materials:\n",
       "  - Project guidelines\n",
       "- Differentiation:\n",
       "  - Assign roles based on strengths\n",
       "  - Provide extra support for weaker groups\n",
       "- Assessment: Project progress presentation\n",
       "- Homework: Prepare final project\n",
       "- Sections:\n",
       "  - Title: Project Workshop, Activities: [\"Team collaboration\", \"Instructor consultation\"], Materials: [\"Guidelines\"], Assessment: Progress presentation\n",
       "\n",
       "### Week 8: Final Presentation & Review\n",
       "\n",
       "- Week: 8\n",
       "- Topic: Final Presentation & Review\n",
       "- Learning objectives:\n",
       "  - Present project outcomes\n",
       "  - Reflect on learning\n",
       "- Activities:\n",
       "  - Group presentations\n",
       "  - Class reflection\n",
       "- Materials:\n",
       "  - Presentation tools\n",
       "- Differentiation:\n",
       "  - Encourage concise presentations\n",
       "  - Provide feedback forms\n",
       "- Assessment: Final presentation\n",
       "- Homework: Prepare for final exam\n",
       "- Sections:\n",
       "  - Title: Final Presentation, Activities: [\"Group presentations\", \"Feedback session\"], Materials: [\"Projector\"], Assessment: Final project evaluation\n",
       "\n",
       "\n",
       "## Learning objectives\n",
       "\n",
       "- Explain the principles of software requirement engineering\n",
       "- Apply elicitation techniques to gather requirements\n",
       "- Differentiate between functional and non-functional requirements\n",
       "- Develop and document a software requirements specification\n",
       "- Validate requirements using reviews, prototyping, and acceptance tests\n",
       "\n",
       "\n",
       "## External resources\n",
       "\n",
       "- Sommerville, I. (2011). Software Engineering (9th Edition)\n",
       "- https://www.uml-diagrams.org/\n",
       "- https://www.coursera.org/learn/software-processes\n",
       "- https://forms.gle/ZKymd4teuaijDDvE7\n",
       "\n",
       "\n",
       "## Metadata\n",
       "\n",
       "- Course: Software Requirements Analysis and Specification\n",
       "- Instructor: A. J. Prasara Jakkaew\n",
       "- Academic year: 2024\n",
       "- School: School of Information Technology, Mae Fah Luang University\n",
       "\n",
       "\n",
       "## Key concepts\n",
       "\n",
       "- Definition: Software Requirement Engineering is the process of defining, documenting, and maintaining software requirements.\n",
       "- Role in sdlc: Forms the foundation for design, development, and testing phases.\n",
       "- Goals: Ensure stakeholder needs are captured, analyzed, and validated.\n",
       "- Importance: Prevents costly errors and ensures customer satisfaction.\n",
       "- Reference resources:\n",
       "  - https://www.tutorialspoint.com/software_engineering/software_requirements.htm\n",
       "  - https://www.uml-diagrams.org/\n",
       "  - https://www.coursera.org/learn/software-processes\n",
       "\n",
       "\n",
       "## Teaching strategies\n",
       "\n",
       "- Lecture with Diagram\n",
       "- Class Discussion\n",
       "- Think-Pair-Share\n",
       "- Case Study\n",
       "- Hands-on Workshop\n",
       "\n",
       "\n",
       "## Teaching activities\n",
       "\n",
       "- Title: Introduction Lecture, Duration minutes: 30, Description: Introduce software requirement engineering principles, Steps: [\"Present course objectives\", \"Explain role of requirements in SDLC\", \"Discuss importance of accurate requirements\"]\n",
       "- Title: Group Brainstorming, Duration minutes: 40, Description: Students brainstorm requirements for a sample system, Steps: [\"Divide into groups\", \"Identify functional and non-functional requirements\", \"Share findings with class\"]\n",
       "- Title: Stakeholder Interview Simulation, Duration minutes: 50, Description: Practice elicitation techniques, Steps: [\"Assign roles: interviewer, stakeholder\", \"Conduct mock interviews\", \"Document findings\"]\n",
       "\n",
       "\n",
       "## Assessment evaluation\n",
       "\n",
       "- Quizzes on concepts\n",
       "- Group project with presentations\n",
       "- Midterm and final exams\n",
       "- Participation in discussions\n",
       "- Assignments on stakeholder interviews and requirement documents\n",
       "\n",
       "\n",
       "## Materials needed\n",
       "\n",
       "- Projector\n",
       "- Whiteboard and markers\n",
       "- Laptops\n",
       "- Case study handouts\n",
       "- UML diagramming tools"
      ],
      "text/plain": [
       "<IPython.core.display.Markdown object>"
      ]
     },
     "metadata": {},
     "output_type": "display_data"
    }
   ],
   "source": [
    "plan_md = render_lesson_plan_markdown(plan)\n",
    "display(Markdown(plan_md))"
   ]
  },
  {
   "cell_type": "markdown",
   "id": "709dd926",
   "metadata": {},
   "source": [
    "## Timeable Agent Test"
   ]
  },
  {
   "cell_type": "code",
   "execution_count": 3,
   "id": "3e871888",
   "metadata": {},
   "outputs": [],
   "source": [
    "import sys\n",
    "sys.path.append('..')"
   ]
  },
  {
   "cell_type": "code",
   "execution_count": 7,
   "id": "2f493bae",
   "metadata": {},
   "outputs": [
    {
     "ename": "ImportError",
     "evalue": "cannot import name 'suggest_lesson_slots' from 'agents.timetable_agent' (/home/timmy/ai-teacher-assistant/notebooks/../agents/timetable_agent.py)",
     "output_type": "error",
     "traceback": [
      "\u001b[31m---------------------------------------------------------------------------\u001b[39m",
      "\u001b[31mImportError\u001b[39m                               Traceback (most recent call last)",
      "\u001b[36mCell\u001b[39m\u001b[36m \u001b[39m\u001b[32mIn[7]\u001b[39m\u001b[32m, line 1\u001b[39m\n\u001b[32m----> \u001b[39m\u001b[32m1\u001b[39m \u001b[38;5;28;01mfrom\u001b[39;00m\u001b[38;5;250m \u001b[39m\u001b[34;01magents\u001b[39;00m\u001b[34;01m.\u001b[39;00m\u001b[34;01mtimetable_agent\u001b[39;00m\u001b[38;5;250m \u001b[39m\u001b[38;5;28;01mimport\u001b[39;00m suggest_lesson_slots\n",
      "\u001b[31mImportError\u001b[39m: cannot import name 'suggest_lesson_slots' from 'agents.timetable_agent' (/home/timmy/ai-teacher-assistant/notebooks/../agents/timetable_agent.py)"
     ]
    }
   ],
   "source": [
    "from agents.timetable_agent import suggest_lesson_slots"
   ]
  },
  {
   "cell_type": "markdown",
   "id": "a11adbdc",
   "metadata": {},
   "source": [
    "## Email Writer Test"
   ]
  },
  {
   "cell_type": "code",
   "execution_count": 2,
   "id": "5a09e075",
   "metadata": {},
   "outputs": [],
   "source": [
    "import sys\n",
    "sys.path.append('..')\n",
    "from integrations.email_writer import parse_prompt_to_fields, draft_email\n",
    "from core.logger import logger"
   ]
  },
  {
   "cell_type": "code",
   "execution_count": 3,
   "id": "0e032791",
   "metadata": {},
   "outputs": [
    {
     "name": "stderr",
     "output_type": "stream",
     "text": [
      "2025-08-23 01:22:50 | INFO | agent | Email fields parsed successfully: ['to_email', 'to_name', 'tone', 'cc', 'bcc', 'action', 'subject_override', 'notes']\n"
     ]
    },
    {
     "name": "stdout",
     "output_type": "stream",
     "text": [
      "Parsed fields:\n",
      "  to_email: thanthtoosan.mechatronic@gmail.com\n",
      "  to_name: \n",
      "  tone: professional\n",
      "  cc: \n",
      "  bcc: \n",
      "  action: send\n",
      "  subject_override: \n",
      "  notes: Email should inform about the upcoming meeting scheduled for tomorrow at 2 PM.\n"
     ]
    },
    {
     "name": "stderr",
     "output_type": "stream",
     "text": [
      "2025-08-23 01:22:54 | INFO | agent | Email content drafted successfully with subject: Reminder: Meeting Scheduled for Tomorrow at 2 PM\n"
     ]
    },
    {
     "name": "stdout",
     "output_type": "stream",
     "text": [
      "Drafted email:\n",
      "  Subject: Reminder: Meeting Scheduled for Tomorrow at 2 PM\n",
      "  Plain text: Hi John,\n",
      "\n",
      "I hope this message finds you well. I wanted to send a quick reminder about our meeting sc...\n",
      "  HTML: <p>Hi John,</p>\n",
      "<p>I hope this message finds you well. I wanted to send a quick reminder about our m...\n"
     ]
    }
   ],
   "source": [
    "test_prompt = \"Send an email to thanthtoosan.mechatronic@gmail.com about the upcoming meeting tomorrow at 2 PM. Make it professional.\"\n",
    "parsed = parse_prompt_to_fields(test_prompt)\n",
    "print(\"Parsed fields:\")\n",
    "for key, value in parsed.items():\n",
    "    print(f\"  {key}: {value}\")\n",
    "\n",
    "drafted = draft_email(\"John\", \"Reminder about tomorrow's meeting at 2 PM\", \"professional, friendly\")\n",
    "print(\"Drafted email:\")\n",
    "print(f\"  Subject: {drafted['subject']}\")\n",
    "print(f\"  Plain text: {drafted['plain'][:100]}...\")\n",
    "print(f\"  HTML: {drafted['html'][:100]}...\")"
   ]
  },
  {
   "cell_type": "markdown",
   "id": "054b3c99",
   "metadata": {},
   "source": [
    "## Gmail Tool Test"
   ]
  },
  {
   "cell_type": "code",
   "execution_count": 4,
   "id": "e1de64bc",
   "metadata": {},
   "outputs": [],
   "source": [
    "from integrations.gmail_tool import create_message"
   ]
  },
  {
   "cell_type": "code",
   "execution_count": 5,
   "id": "4101ef0d",
   "metadata": {},
   "outputs": [
    {
     "name": "stdout",
     "output_type": "stream",
     "text": [
      "Message created successfully: <class 'dict'>\n",
      "Message keys: ['raw', 'bcc']\n",
      "Raw message length: 500\n"
     ]
    }
   ],
   "source": [
    "msg = create_message(\n",
    "    to=\"test@example.com\",\n",
    "    subject=\"Test Subject\",\n",
    "    body_text=\"This is a test message body\",\n",
    "    body_html=\"<p>This is a <strong>test</strong> message body</p>\"\n",
    ")\n",
    "print(f\"Message created successfully: {type(msg)}\")\n",
    "print(f\"Message keys: {list(msg.keys())}\")\n",
    "print(f\"Raw message length: {len(msg['raw'])}\")"
   ]
  },
  {
   "cell_type": "markdown",
   "id": "5def257b",
   "metadata": {},
   "source": [
    "## Email Agent Test"
   ]
  },
  {
   "cell_type": "code",
   "execution_count": 6,
   "id": "cca1c1bc",
   "metadata": {},
   "outputs": [],
   "source": [
    "from agents.email_agent import EmailAgent"
   ]
  },
  {
   "cell_type": "code",
   "execution_count": 9,
   "id": "063084fc",
   "metadata": {},
   "outputs": [
    {
     "name": "stderr",
     "output_type": "stream",
     "text": [
      "2025-08-23 01:31:43 | INFO | agent | Initializing Gmail service with credentials: /home/timmy/ai-teacher-assistant/credentials.json\n",
      "2025-08-23 01:31:43 | INFO | agent | Gmail service initialized successfully\n"
     ]
    },
    {
     "name": "stdout",
     "output_type": "stream",
     "text": [
      "=== Testing Email Agent Initialization ===\n"
     ]
    },
    {
     "name": "stderr",
     "output_type": "stream",
     "text": [
      "2025-08-23 01:31:44 | INFO | agent | Gmail service initialized successfully. Sender: timmythaw17@gmail.com\n",
      "2025-08-23 01:31:44 | INFO | agent | EmailAgent started with prompt: Send an email to thanthtoosan.mechatronic@gmail.com about testing the email system. Make it friendly...\n"
     ]
    },
    {
     "name": "stdout",
     "output_type": "stream",
     "text": [
      "✓ Email agent initialized successfully\n",
      "  Sender email: timmythaw17@gmail.com\n",
      "  Model: openai/gpt-5-chat-latest\n",
      "\n",
      "=== Testing Email Agent Flow ===\n"
     ]
    },
    {
     "name": "stderr",
     "output_type": "stream",
     "text": [
      "2025-08-23 01:31:45 | INFO | agent | Email fields parsed successfully: ['to_email', 'to_name', 'tone', 'cc', 'bcc', 'action', 'subject_override', 'notes']\n",
      "2025-08-23 01:31:49 | INFO | agent | Email content drafted successfully with subject: Test Email for System Check\n",
      "2025-08-23 01:31:49 | INFO | agent | Email content drafted successfully\n",
      "2025-08-23 01:31:57 | INFO | agent | Email sent successfully with ID: 198d30d1dd6d323e\n",
      "2025-08-23 01:31:57 | INFO | agent | Email sent successfully with ID: 198d30d1dd6d323e\n",
      "2025-08-23 01:31:57 | INFO | agent | Email operation completed successfully: send\n"
     ]
    },
    {
     "name": "stdout",
     "output_type": "stream",
     "text": [
      "Email agent test result:\n",
      "  Success: True\n",
      "  Mode: send\n",
      "  To: thanthtoosan.mechatronic@gmail.com\n",
      "  Subject: Test Email for System Check\n"
     ]
    }
   ],
   "source": [
    "print(\"=== Testing Email Agent Initialization ===\")\n",
    "try:\n",
    "    agent = EmailAgent()\n",
    "    print(f\"✓ Email agent initialized successfully\")\n",
    "    print(f\"  Sender email: {agent.sender}\")\n",
    "    print(f\"  Model: {agent.model}\")\n",
    "except FileNotFoundError as e:\n",
    "    print(f\"⚠ Email agent test skipped - credentials.json not found (expected)\")\n",
    "    print(f\"  Error: {e}\")\n",
    "except Exception as e:\n",
    "    print(f\"✗ Email agent initialization failed: {e}\")\n",
    "\n",
    "# Test email agent with simple prompt\n",
    "print(\"\\n=== Testing Email Agent Flow ===\")\n",
    "if 'agent' in locals() and hasattr(agent, 'sender'):\n",
    "    try:\n",
    "        test_result = agent.run(\n",
    "            \"Send an email to thanthtoosan.mechatronic@gmail.com about testing the email system. \"\n",
    "            \"Make it friendly and brief.\"\n",
    "        )\n",
    "        print(\"Email agent test result:\")\n",
    "        print(f\"  Success: {test_result.get('ok', False)}\")\n",
    "        print(f\"  Mode: {test_result.get('mode', 'N/A')}\")\n",
    "        if test_result.get('ok'):\n",
    "            print(f\"  To: {test_result.get('to', 'N/A')}\")\n",
    "            print(f\"  Subject: {test_result.get('subject', 'N/A')}\")\n",
    "    except Exception as e:\n",
    "        print(f\"⚠ Email sending test failed: {e}\")\n",
    "else:\n",
    "    print(\"⚠ Skipping email sending test - agent not properly initialized\")"
   ]
  },
  {
   "cell_type": "markdown",
   "id": "b9abf370",
   "metadata": {},
   "source": [
    "## Create google calendar time slot"
   ]
  },
  {
   "cell_type": "code",
   "execution_count": 1,
   "id": "2c302cd6",
   "metadata": {},
   "outputs": [],
   "source": [
    "import sys\n",
    "sys.path.append('..')\n",
    "from agents.timetable_agent import TimetableAgent\n",
    "from integrations.calendar_orchestrator import schedule_from_timetable"
   ]
  },
  {
   "cell_type": "code",
   "execution_count": 2,
   "id": "f744c244",
   "metadata": {},
   "outputs": [
    {
     "name": "stderr",
     "output_type": "stream",
     "text": [
      "2025-08-24 00:06:06 | INFO | agent | TimetableAgent started (days_ahead=7, work_hours=(9, 17), slot_hours=1, course=Algebra I, purpose=Week 2: Quadratic equations intro)\n",
      "2025-08-24 00:06:06 | INFO | agent | Fetching calendar events for next 7 days\n",
      "2025-08-24 00:06:07 | INFO | agent | Google credentials refreshed successfully.\n",
      "2025-08-24 00:06:07 | INFO | agent | Google credentials cached at /home/timmy/ai-teacher-assistant/token.pickle\n",
      "2025-08-24 00:06:07 | INFO | agent | Retrieved 2 events from Google Calendar\n",
      "2025-08-24 00:06:11 | INFO | agent | TimetableAgent produced 3 suggested slot(s)\n"
     ]
    }
   ],
   "source": [
    "agent = TimetableAgent()\n",
    "plan = agent.suggest_lesson_slots(\n",
    "    days_ahead=7,\n",
    "    work_hours=(9, 17),\n",
    "    slot_hours=1,\n",
    "    course_name=\"Algebra I\",\n",
    "    session_purpose=\"Week 2: Quadratic equations intro\",\n",
    "    location_hint=\"Room 204\",\n",
    "    attendees=[\"ta@example.com\"],      # optional\n",
    "    calendar_id=\"primary\"              # optional\n",
    ")"
   ]
  },
  {
   "cell_type": "code",
   "execution_count": 3,
   "id": "d909a907",
   "metadata": {},
   "outputs": [
    {
     "name": "stdout",
     "output_type": "stream",
     "text": [
      "{'suggested_slots': [{'start': '2025-08-29T09:00', 'end': '2025-08-29T10:00', 'title': 'Algebra I - Quadratic Equations (Week 2)', 'reason': 'Earliest available slot on Friday before any conflicts.', 'location': 'Room 204'}, {'start': '2025-08-29T10:30', 'end': '2025-08-29T11:30', 'title': 'Algebra I - Quadratic Equations (Week 2)', 'reason': 'Mid-morning slot on Friday, no conflicts with existing events.', 'location': 'Room 204'}, {'start': '2025-08-29T13:30', 'end': '2025-08-29T14:30', 'title': 'Algebra I - Quadratic Equations (Week 2)', 'reason': 'Afternoon slot before the 15:00 event on Friday.', 'location': 'Room 204'}], 'metadata': {'course_name': 'Algebra I', 'session_purpose': 'Week 2: Quadratic equations intro', 'location_hint': 'Room 204', 'attendees': ['ta@example.com'], 'calendar_id': 'primary', 'work_hours': [9, 17], 'slot_hours': 1, 'days_ahead': 7}}\n"
     ]
    }
   ],
   "source": [
    "print(plan)"
   ]
  },
  {
   "cell_type": "code",
   "execution_count": 4,
   "id": "4ee1e9b5",
   "metadata": {},
   "outputs": [
    {
     "name": "stderr",
     "output_type": "stream",
     "text": [
      "2025-08-24 00:07:11 | INFO | agent | Scheduling 3 suggested slots to calendar 'primary'\n",
      "2025-08-24 00:07:12 | INFO | agent | Detected calendar timezone: Asia/Bangkok\n",
      "2025-08-24 00:07:13 | INFO | agent | Created event fq5ph3ub053v0ejglp9ad67qnk (https://www.google.com/calendar/event?eid=ZnE1cGgzdWIwNTN2MGVqZ2xwOWFkNjdxbmsgdGltbXl0aGF3MTdAbQ)\n",
      "2025-08-24 00:07:13 | INFO | agent | Detected calendar timezone: Asia/Bangkok\n",
      "2025-08-24 00:07:14 | INFO | agent | Created event 8lcm5rlm43m86cc8k5q4g5b9oc (https://www.google.com/calendar/event?eid=OGxjbTVybG00M204NmNjOGs1cTRnNWI5b2MgdGltbXl0aGF3MTdAbQ)\n",
      "2025-08-24 00:07:15 | INFO | agent | Detected calendar timezone: Asia/Bangkok\n",
      "2025-08-24 00:07:16 | INFO | agent | Created event cc0052tfsk8dlkk98ei7gj4bdc (https://www.google.com/calendar/event?eid=Y2MwMDUydGZzazhkbGtrOThlaTdnajRiZGMgdGltbXl0aGF3MTdAbQ)\n"
     ]
    },
    {
     "data": {
      "text/plain": [
       "[{'slot_index': 1,\n",
       "  'start': '2025-08-29T09:00',\n",
       "  'end': '2025-08-29T10:00',\n",
       "  'ok': True,\n",
       "  'event_id': 'fq5ph3ub053v0ejglp9ad67qnk',\n",
       "  'html_link': 'https://www.google.com/calendar/event?eid=ZnE1cGgzdWIwNTN2MGVqZ2xwOWFkNjdxbmsgdGltbXl0aGF3MTdAbQ'},\n",
       " {'slot_index': 2,\n",
       "  'start': '2025-08-29T10:30',\n",
       "  'end': '2025-08-29T11:30',\n",
       "  'ok': True,\n",
       "  'event_id': '8lcm5rlm43m86cc8k5q4g5b9oc',\n",
       "  'html_link': 'https://www.google.com/calendar/event?eid=OGxjbTVybG00M204NmNjOGs1cTRnNWI5b2MgdGltbXl0aGF3MTdAbQ'},\n",
       " {'slot_index': 3,\n",
       "  'start': '2025-08-29T13:30',\n",
       "  'end': '2025-08-29T14:30',\n",
       "  'ok': True,\n",
       "  'event_id': 'cc0052tfsk8dlkk98ei7gj4bdc',\n",
       "  'html_link': 'https://www.google.com/calendar/event?eid=Y2MwMDUydGZzazhkbGtrOThlaTdnajRiZGMgdGltbXl0aGF3MTdAbQ'}]"
      ]
     },
     "execution_count": 4,
     "metadata": {},
     "output_type": "execute_result"
    }
   ],
   "source": [
    "results = schedule_from_timetable(plan)\n",
    "results"
   ]
  },
  {
   "cell_type": "markdown",
   "id": "40dcda5f",
   "metadata": {},
   "source": [
    "## Form Response Test"
   ]
  },
  {
   "cell_type": "code",
   "execution_count": 1,
   "id": "5a5d7dc0",
   "metadata": {},
   "outputs": [],
   "source": [
    "import sys\n",
    "sys.path.append('..')\n",
    "from integrations.form_response import get_form_full_info"
   ]
  },
  {
   "cell_type": "code",
   "execution_count": 2,
   "id": "92ba2b76",
   "metadata": {},
   "outputs": [],
   "source": [
    "import pandas as pd\n",
    "from io import StringIO"
   ]
  },
  {
   "cell_type": "code",
   "execution_count": 3,
   "id": "e8c02ba7",
   "metadata": {},
   "outputs": [
    {
     "name": "stderr",
     "output_type": "stream",
     "text": [
      "2025-08-24 06:19:44 | INFO | agent | Fetched form structure for 1BcvkGQIHagsxpDULOUbRpdmLY7IxZTxtnKFQd2Xq81k\n",
      "2025-08-24 06:19:46 | INFO | agent | Fetched 1 responses for form 1BcvkGQIHagsxpDULOUbRpdmLY7IxZTxtnKFQd2Xq81k\n",
      "2025-08-24 06:19:46 | INFO | agent | Fetched 1 responses for form 1BcvkGQIHagsxpDULOUbRpdmLY7IxZTxtnKFQd2Xq81k\n"
     ]
    },
    {
     "name": "stdout",
     "output_type": "stream",
     "text": [
      "{'ok': True, 'form_id': '1BcvkGQIHagsxpDULOUbRpdmLY7IxZTxtnKFQd2Xq81k', 'form_title': 'SDLC Quizz 3', 'questions': [{'itemId': '067f7658', 'title': 'Which of the following best describes the Software Development Life Cycle (SDLC)?', 'type': 'Multiple Choice'}, {'itemId': '2fd19c15', 'title': 'In the Waterfall Model, what is the main characteristic of the process flow?', 'type': 'Multiple Choice'}, {'itemId': '2659cc18', 'title': 'Which of the following is NOT one of the main steps of Requirement Engineering?', 'type': 'Multiple Choice'}, {'itemId': '2374edce', 'title': 'Which type of testing is performed by a friendly set of customers in the Waterfall Model?', 'type': 'Multiple Choice'}, {'itemId': '1c0dc0e9', 'title': 'What is the main purpose of a Software Requirement Specification (SRS) document?', 'type': 'Multiple Choice'}], 'responses': [{'submitted': '2025-08-23T23:13:29.232891Z', 'answers': {'067f7658': '', '2fd19c15': '', '2659cc18': '', '2374edce': '', '1c0dc0e9': ''}, 'marks': 6, 'email': '6731503088@lamduan.mfu.ac.th'}], 'num_questions': 5, 'num_responses': 1}\n"
     ]
    }
   ],
   "source": [
    "result = get_form_full_info(\"https://docs.google.com/forms/d/1BcvkGQIHagsxpDULOUbRpdmLY7IxZTxtnKFQd2Xq81k/edit\")\n",
    "print(result)"
   ]
  },
  {
   "cell_type": "code",
   "execution_count": 12,
   "id": "8421ce24",
   "metadata": {},
   "outputs": [
    {
     "name": "stdout",
     "output_type": "stream",
     "text": [
      "{'ok': True, 'form_id': '15RvsIa1XtpMNJvnnQe4ItvL37lv3EgESX_aGnJ6ak-k', 'form_title': 'SDLC Quizz', 'questions': [{'itemId': '061f07b4', 'title': 'Which of the following best describes the Software Development Life Cycle (SDLC)?', 'type': 'Multiple Choice'}, {'itemId': '374fdf70', 'title': 'In the Waterfall Model, what is the correct sequence of phases?', 'type': 'Multiple Choice'}, {'itemId': '1ddcebe0', 'title': 'What is the main purpose of the Software Requirement Specification (SRS) document?', 'type': 'Multiple Choice'}, {'itemId': '5ea464a6', 'title': 'Which type of testing is performed by a friendly set of customers in the Waterfall Model?', 'type': 'Multiple Choice'}, {'itemId': '55898eb2', 'title': 'Which of the following is NOT a step in requirements engineering?', 'type': 'Multiple Choice'}], 'responses': [{'submitted': '2025-08-23T19:42:04.745487Z', 'answers': {'061f07b4': '', '374fdf70': '', '1ddcebe0': '', '5ea464a6': '', '55898eb2': ''}, 'marks': None, 'email': None}, {'submitted': '2025-08-23T19:58:12.417727Z', 'answers': {'061f07b4': '', '374fdf70': '', '1ddcebe0': '', '5ea464a6': '', '55898eb2': ''}, 'marks': None, 'email': None}, {'submitted': '2025-08-23T19:42:03.020149Z', 'answers': {'061f07b4': '', '374fdf70': '', '1ddcebe0': '', '5ea464a6': '', '55898eb2': ''}, 'marks': None, 'email': None}], 'num_questions': 5, 'num_responses': 3}\n"
     ]
    }
   ],
   "source": [
    "print(result)"
   ]
  },
  {
   "cell_type": "code",
   "execution_count": null,
   "id": "661cce3d",
   "metadata": {},
   "outputs": [],
   "source": []
  },
  {
   "cell_type": "markdown",
   "id": "db8d3ea4",
   "metadata": {},
   "source": [
    "## Debugging Form Response CSV Output\n",
    "This cell will help you diagnose why the CSV output may be empty or missing data."
   ]
  },
  {
   "cell_type": "code",
   "execution_count": 26,
   "id": "0a4e5f17",
   "metadata": {},
   "outputs": [
    {
     "name": "stderr",
     "output_type": "stream",
     "text": [
      "2025-08-24 04:46:39 | INFO | agent | Fetched form structure for 15RvsIa1XtpMNJvnnQe4ItvL37lv3EgESX_aGnJ6ak-k\n",
      "2025-08-24 04:46:40 | INFO | agent | Fetched 3 responses for form 15RvsIa1XtpMNJvnnQe4ItvL37lv3EgESX_aGnJ6ak-k\n"
     ]
    },
    {
     "name": "stdout",
     "output_type": "stream",
     "text": [
      "Structured result keys: ['ok', 'form_id', 'form_title', 'questions', 'responses', 'num_questions', 'num_responses']\n",
      "Number of responses: 3\n"
     ]
    },
    {
     "name": "stderr",
     "output_type": "stream",
     "text": [
      "2025-08-24 04:46:42 | INFO | agent | Fetched form structure for 15RvsIa1XtpMNJvnnQe4ItvL37lv3EgESX_aGnJ6ak-k\n",
      "2025-08-24 04:46:43 | INFO | agent | Fetched 3 responses for form 15RvsIa1XtpMNJvnnQe4ItvL37lv3EgESX_aGnJ6ak-k\n"
     ]
    },
    {
     "name": "stdout",
     "output_type": "stream",
     "text": [
      "Raw responses: [{'responseId': 'ACYDBNg1wp_UwKcCiO2GrHbhoxO3NBYK3NQgXtb7smMTLua4WYyhmocFoDbu1txg2HtWLUc', 'createTime': '2025-08-23T19:42:04.745Z', 'lastSubmittedTime': '2025-08-23T19:42:04.745487Z', 'answers': {'04043bb5': {'questionId': '04043bb5', 'grade': {}, 'textAnswers': {'answers': [{'value': 'A document specifying only non-functional requirements'}]}}, '2cb22431': {'questionId': '2cb22431', 'grade': {'score': 2, 'correct': True}, 'textAnswers': {'answers': [{'value': 'Requirement Analysis → Design → Implementation → Testing → Maintenance'}]}}, '3017f297': {'questionId': '3017f297', 'grade': {}, 'textAnswers': {'answers': [{'value': 'Acceptance Testing'}]}}, '4a8b72f0': {'questionId': '4a8b72f0', 'grade': {}, 'textAnswers': {'answers': [{'value': 'Requirements Analysis'}]}}, '48d7a237': {'questionId': '48d7a237', 'grade': {}, 'textAnswers': {'answers': [{'value': 'To provide a maintenance roadmap'}]}}}, 'totalScore': 2}, {'responseId': 'ACYDBNh2DllCnhjo1dYiZTP33iZ7MzRiU3j7PRhXjYgk7Llz5oxIsyufQ03oVXC5RPfoCNc', 'createTime': '2025-08-23T19:58:12.417Z', 'lastSubmittedTime': '2025-08-23T19:58:12.417727Z', 'answers': {'04043bb5': {'questionId': '04043bb5', 'grade': {'score': 2, 'correct': True}, 'textAnswers': {'answers': [{'value': 'A framework defining tasks performed at each step in the software development process'}]}}, '2cb22431': {'questionId': '2cb22431', 'grade': {}, 'textAnswers': {'answers': [{'value': 'Design → Implementation → Requirement Analysis → Testing → Maintenance'}]}}, '3017f297': {'questionId': '3017f297', 'grade': {'score': 2, 'correct': True}, 'textAnswers': {'answers': [{'value': 'Beta Testing'}]}}, '4a8b72f0': {'questionId': '4a8b72f0', 'grade': {}, 'textAnswers': {'answers': [{'value': 'Requirements Elicitation'}]}}, '48d7a237': {'questionId': '48d7a237', 'grade': {'score': 2, 'correct': True}, 'textAnswers': {'answers': [{'value': 'To serve as a contract between the development team and customers'}]}}}, 'totalScore': 6}, {'responseId': 'ACYDBNjYYTvPFSqXtnbc-Adpy1PNtCpwA4zxrsmzmDXZ2UXOe2XnF16JnLgeto3zGcE_sJI', 'createTime': '2025-08-23T19:42:03.020Z', 'lastSubmittedTime': '2025-08-23T19:42:03.020149Z', 'answers': {'04043bb5': {'questionId': '04043bb5', 'grade': {}, 'textAnswers': {'answers': [{'value': 'A document specifying only non-functional requirements'}]}}, '2cb22431': {'questionId': '2cb22431', 'grade': {}, 'textAnswers': {'answers': [{'value': 'Implementation → Requirement Analysis → Testing → Design → Maintenance'}]}}, '3017f297': {'questionId': '3017f297', 'grade': {'score': 2, 'correct': True}, 'textAnswers': {'answers': [{'value': 'Beta Testing'}]}}, '4a8b72f0': {'questionId': '4a8b72f0', 'grade': {}, 'textAnswers': {'answers': [{'value': 'Requirements Elicitation'}]}}, '48d7a237': {'questionId': '48d7a237', 'grade': {'score': 2, 'correct': True}, 'textAnswers': {'answers': [{'value': 'To serve as a contract between the development team and customers'}]}}}, 'totalScore': 4}]\n",
      "Questions extracted: ['Which of the following best describes the Software Development Life Cycle (SDLC)?', 'In the Waterfall Model, what is the correct sequence of phases?', 'What is the main purpose of the Software Requirement Specification (SRS) document?', 'Which type of testing is performed by a friendly set of customers in the Waterfall Model?', 'Which of the following is NOT a step in requirements engineering?']\n",
      "\n",
      "CSV Output Preview:\n",
      " Timestamp,Which of the following best describes the Software Development Life Cycle (SDLC)?,\"In the Waterfall Model, what is the correct sequence of phases?\",What is the main purpose of the Software Requirement Specification (SRS) document?,Which type of testing is performed by a friendly set of customers in the Waterfall Model?,Which of the following is NOT a step in requirements engineering?\n",
      "2025-08-23T19:42:04.745487Z,,,,,\n",
      "2025-08-23T19:58:12.417727Z,,,,,\n",
      "2025-08-23T19:42:03.020149Z,,,,,\n",
      "\n"
     ]
    }
   ],
   "source": [
    "import sys\n",
    "sys.path.append('..')\n",
    "from integrations.form_response import get_form_full_info\n",
    "from integrations.forms_fetch import fetch_form_structure, fetch_all_responses\n",
    "from integrations.form_render import render_responses_csv_string\n",
    "\n",
    "# Use your actual form link or ID\n",
    "form_id_or_link = \"https://docs.google.com/forms/d/15RvsIa1XtpMNJvnnQe4ItvL37lv3EgESX_aGnJ6ak-k/edit\"\n",
    "\n",
    "result = get_form_full_info(form_id_or_link)\n",
    "print(\"Structured result keys:\", list(result.keys()))\n",
    "print(\"Number of responses:\", result.get('num_responses'))\n",
    "\n",
    "# Print raw responses for inspection\n",
    "service = None\n",
    "try:\n",
    "    from core.google_client import get_google_service\n",
    "    service = get_google_service(\"forms\", \"v1\")\n",
    "except Exception as e:\n",
    "    print(\"Service error:\", e)\n",
    "\n",
    "if service:\n",
    "    form = fetch_form_structure(service, result.get('form_id'))\n",
    "    responses = fetch_all_responses(service, result.get('form_id'))\n",
    "    print(\"Raw responses:\", responses)\n",
    "    print(\"Questions extracted:\", [q.get('title') for q in form.get('items', [])])\n",
    "\n",
    "    # Test CSV rendering directly\n",
    "    csv_test = render_responses_csv_string(form, responses)\n",
    "    print(\"\\nCSV Output Preview:\\n\", csv_test[:500])\n",
    "else:\n",
    "    print(\"Could not fetch service, skipping raw API debug.\")"
   ]
  },
  {
   "cell_type": "code",
   "execution_count": null,
   "id": "4bdfc216",
   "metadata": {},
   "outputs": [],
   "source": []
  },
  {
   "cell_type": "code",
   "execution_count": 14,
   "id": "63fea1b2",
   "metadata": {},
   "outputs": [
    {
     "name": "stderr",
     "output_type": "stream",
     "text": [
      "2025-08-24 06:08:32 | INFO | agent | Creating Google Form: Answer Key Test\n",
      "2025-08-24 06:08:41 | WARNING | agent | Post-creation grading update failed: <HttpError 400 when requesting https://forms.googleapis.com/v1/forms/1MBVOn_X4Ap1RKCH5NAbzQzjdyeQl7UG1TETRUXmbsTw:batchUpdate?alt=json returned \"A Location is required\". Details: \"A Location is required\">\n"
     ]
    },
    {
     "name": "stdout",
     "output_type": "stream",
     "text": [
      "{'form_id': '1MBVOn_X4Ap1RKCH5NAbzQzjdyeQl7UG1TETRUXmbsTw', 'edit_url': 'https://docs.google.com/forms/d/1MBVOn_X4Ap1RKCH5NAbzQzjdyeQl7UG1TETRUXmbsTw/edit', 'email_collection': 'VERIFIED', 'answer_keys_applied': 0}\n"
     ]
    }
   ],
   "source": [
    "# Quick test: create a small form with explicit answers and verify answer keys\n",
    "import sys\n",
    "sys.path.append('..')\n",
    "from integrations.form_creator import create_google_form\n",
    "\n",
    "sample_assessment = {\n",
    "    \"title\": \"Answer Key Test\",\n",
    "    \"questions\": [\n",
    "        {\"q\": \"2 + 2 = ?\", \"options\": [\"3\", \"4\", \"5\"], \"answer\": \"4\"},\n",
    "        {\"q\": \"Capital of France?\", \"options\": [\"Berlin\", \"Paris\", \"Rome\"], \"answer\": \"Paris\"},\n",
    "        {\"q\": \"Keyword for loop in Python?\", \"answer\": \"for\"}\n",
    "    ],\n",
    "    \"rubric\": [{\"criteria\": \"Correct\", \"points\": 2}]\n",
    "}\n",
    "\n",
    "res = create_google_form(sample_assessment, title=\"Answer Key Test\")\n",
    "print(res)"
   ]
  },
  {
   "cell_type": "code",
   "execution_count": 4,
   "id": "01503f03",
   "metadata": {},
   "outputs": [
    {
     "name": "stderr",
     "output_type": "stream",
     "text": [
      "2025-08-24 06:23:50 | INFO | agent | Fetched form structure for 1BcvkGQIHagsxpDULOUbRpdmLY7IxZTxtnKFQd2Xq81k\n",
      "2025-08-24 06:23:50 | INFO | agent | Fetched 1 responses for form 1BcvkGQIHagsxpDULOUbRpdmLY7IxZTxtnKFQd2Xq81k\n"
     ]
    },
    {
     "name": "stdout",
     "output_type": "stream",
     "text": [
      "Structured emails/marks (first 3):\n",
      "{'email': '6731503088@lamduan.mfu.ac.th', 'marks': 6, 'submitted': '2025-08-23T23:13:29.232891Z'}\n"
     ]
    },
    {
     "name": "stderr",
     "output_type": "stream",
     "text": [
      "2025-08-24 06:23:52 | INFO | agent | Fetched form structure for 1BcvkGQIHagsxpDULOUbRpdmLY7IxZTxtnKFQd2Xq81k\n",
      "2025-08-24 06:23:53 | INFO | agent | Fetched 1 responses for form 1BcvkGQIHagsxpDULOUbRpdmLY7IxZTxtnKFQd2Xq81k\n"
     ]
    },
    {
     "name": "stdout",
     "output_type": "stream",
     "text": [
      "\n",
      "CSV Preview (first 500 chars):\n",
      " Form Title,Email,Total Score\n",
      "SDLC Quizz 3,6731503088@lamduan.mfu.ac.th,6\n",
      "\n"
     ]
    }
   ],
   "source": [
    "# Reload updated modules and run a focused CSV test for title/email/score\n",
    "import sys, importlib\n",
    "sys.path.append('..')\n",
    "import integrations.form_response as fr\n",
    "import integrations.form_render as rr\n",
    "from integrations.forms_fetch import fetch_form_structure, fetch_all_responses\n",
    "from core.google_client import get_google_service\n",
    "importlib.reload(fr)\n",
    "importlib.reload(rr)\n",
    "from integrations.form_response import get_form_full_info\n",
    "from integrations.form_render import render_responses_csv_string\n",
    "\n",
    "# Use the same form link or set a different one as needed\n",
    "form_id_or_link = \"https://docs.google.com/forms/d/1BcvkGQIHagsxpDULOUbRpdmLY7IxZTxtnKFQd2Xq81k/edit\"\n",
    "\n",
    "res = get_form_full_info(form_id_or_link)\n",
    "print(\"Structured emails/marks (first 3):\")\n",
    "for r in res.get('responses', [])[:3]:\n",
    "    print({\"email\": r.get(\"email\"), \"marks\": r.get(\"marks\"), \"submitted\": r.get(\"submitted\")})\n",
    "\n",
    "service = get_google_service(\"forms\", \"v1\")\n",
    "form = fetch_form_structure(service, res.get('form_id'))\n",
    "responses = fetch_all_responses(service, res.get('form_id'))\n",
    "csv_text = render_responses_csv_string(form, responses)\n",
    "print(\"\\nCSV Preview (first 500 chars):\\n\", csv_text[:500])"
   ]
  },
  {
   "cell_type": "code",
   "execution_count": null,
   "id": "c65e8a5b",
   "metadata": {},
   "outputs": [],
   "source": [
    "# TimetableAgent — consistent weekly schedule test\n",
    "# This section tests the refactored TimetableAgent using:\n",
    "# 1) A minimal lesson plan JSON\n",
    "# 2) A sample PDF from static/\n",
    "# It produces suggested_slots compatible with calendar_orchestrator.schedule_from_timetable.\n",
    "\n",
    "from importlib import reload\n",
    "import os\n",
    "\n",
    "# Import and hot-reload the agent\n",
    "import agents.timetable_agent as timetable_agent\n",
    "reload(timetable_agent)\n",
    "from agents.timetable_agent import TimetableAgent\n",
    "\n",
    "# Orchestrator to schedule (optional)\n",
    "from integrations.calendar_orchestrator import schedule_from_timetable\n",
    "## Test with a minimal JSON lesson plan\n",
    "plan = {\n",
    "    \"lesson_title\": \"Software Engineering 101\",\n",
    "    \"duration_weeks\": 8,\n",
    "    \"sections_per_week\": 1,\n",
    "    \"weekly_schedule\": [\n",
    "        {\"week\": 1, \"title\": \"Introduction\"},\n",
    "        {\"week\": 2, \"title\": \"Requirements\"},\n",
    "        {\"week\": 3, \"title\": \"Design\"},\n",
    "        {\"week\": 4, \"title\": \"Implementation\"},\n",
    "        {\"week\": 5, \"title\": \"Testing\"},\n",
    "        {\"week\": 6, \"title\": \"Maintenance\"},\n",
    "        {\"week\": 7, \"title\": \"Tools\"},\n",
    "        {\"week\": 8, \"title\": \"Review\"}\n",
    "    ]\n",
    "}\n",
    "\n",
    "agent = TimetableAgent()\n",
    "out_json = agent.suggest_consistent_schedule(\n",
    "    plan,\n",
    "    slot_hours=1,\n",
    "    work_hours=(9, 17),\n",
    "    calendar_id=\"primary\",\n",
    "    location_hint=\"Room 101\",\n",
    ")\n",
    "\n",
    "print(\"Keys:\", list(out_json.keys()))\n",
    "print(\"Weeks:\", out_json.get(\"metadata\", {}).get(\"duration_weeks\"))\n",
    "print(\"Sections/week:\", out_json.get(\"metadata\", {}).get(\"sections_per_week\"))\n",
    "print(\"Suggested slots:\", len(out_json.get(\"suggested_slots\", [])))\n",
    "for s in out_json.get(\"suggested_slots\", [])[:5]:\n",
    "    print(\"-\", s)\n",
    "## Test with a sample PDF plan (heuristic extraction)\n",
    "# Try to use an existing PDF from the repo's static folder\n",
    "candidates = [\n",
    "    \"static/SRAS_Course_Outline.pdf\",\n",
    "    \"static/Lecture_Slide.pdf\",\n",
    "    \"static/2025_CH00-SRAS_Introduction.pptx.pdf\",\n",
    "]\n",
    "pdf_path = next((p for p in candidates if os.path.exists(p)), None)\n",
    "print(\"Using PDF:\", pdf_path)\n",
    "\n",
    "out_pdf = None\n",
    "if pdf_path:\n",
    "    out_pdf = agent.suggest_consistent_schedule(\n",
    "        pdf_path,\n",
    "        slot_hours=1,\n",
    "        work_hours=(9, 17),\n",
    "        calendar_id=\"primary\",\n",
    "        location_hint=\"Room 201\",\n",
    "    )\n",
    "    print(\"Keys:\", list(out_pdf.keys()))\n",
    "    print(\"Weeks:\", out_pdf.get(\"metadata\", {}).get(\"duration_weeks\"))\n",
    "    print(\"Sections/week:\", out_pdf.get(\"metadata\", {}).get(\"sections_per_week\"))\n",
    "    print(\"Suggested slots:\", len(out_pdf.get(\"suggested_slots\", [])))\n",
    "    for s in out_pdf.get(\"suggested_slots\", [])[:5]:\n",
    "        print(\"-\", s)\n",
    "else:\n",
    "    print(\"No sample PDF found; skipping PDF test.\")\n",
    "## Optional: create events in Google Calendar (disabled by default)\n",
    "# WARNING: Setting create=True will attempt to create events in your calendar.\n",
    "create = False\n",
    "if create:\n",
    "    to_schedule = out_json  # or out_pdf\n",
    "    results = schedule_from_timetable(to_schedule)\n",
    "    print(\"Created/checked:\")\n",
    "    for r in results[:5]:\n",
    "        print(r)\n",
    "else:\n",
    "    print(\"Dry run only — no calendar events created.\")"
   ]
  },
  {
   "cell_type": "markdown",
   "id": "b00802dc",
   "metadata": {},
   "source": [
    "## Timetable: use existing lesson plan JSON from this notebook\n",
    "This test uses the `plan` variable already produced above to propose a consistent weekly schedule. No events are created by default; it’s a dry run."
   ]
  },
  {
   "cell_type": "code",
   "execution_count": 13,
   "id": "889aae38",
   "metadata": {},
   "outputs": [
    {
     "name": "stderr",
     "output_type": "stream",
     "text": [
      "2025-08-24 16:42:07 | INFO | agent | Detected calendar timezone: Asia/Bangkok\n",
      "2025-08-24 16:42:07 | INFO | agent | Fetching calendar events for next 56 days\n",
      "2025-08-24 16:42:07 | INFO | agent | Fetching calendar events for next 56 days\n",
      "2025-08-24 16:42:08 | INFO | agent | Retrieved 17 events from Google Calendar\n",
      "2025-08-24 16:42:08 | INFO | agent | Suggested 8 slots over 8 week(s)\n",
      "2025-08-24 16:42:08 | INFO | agent | Scheduling 8 suggested slots to calendar 'primary'\n",
      "2025-08-24 16:42:08 | INFO | agent | Retrieved 17 events from Google Calendar\n",
      "2025-08-24 16:42:08 | INFO | agent | Suggested 8 slots over 8 week(s)\n",
      "2025-08-24 16:42:08 | INFO | agent | Scheduling 8 suggested slots to calendar 'primary'\n"
     ]
    },
    {
     "name": "stdout",
     "output_type": "stream",
     "text": [
      "=== Timetable Preview ===\n",
      "Title: Introduction to Software Requirement Engineering\n",
      "Weeks: 8\n",
      "Sections/week: 1\n",
      "Slots shown (first 5):\n",
      "- {'start': '2025-08-25T09:00', 'end': '2025-08-25T10:00', 'title': 'Week 1: Course Introduction & Basics of Requirement Engineer', 'reason': 'Consistent weekly slot on Mon 09:00 avoiding conflicts', 'location': 'Room 101'}\n",
      "- {'start': '2025-09-01T09:00', 'end': '2025-09-01T10:00', 'title': 'Week 2: Requirements Engineering Process', 'reason': 'Consistent weekly slot on Mon 09:00 avoiding conflicts', 'location': 'Room 101'}\n",
      "- {'start': '2025-09-08T09:00', 'end': '2025-09-08T10:00', 'title': 'Week 3: Requirements Elicitation', 'reason': 'Consistent weekly slot on Mon 09:00 avoiding conflicts', 'location': 'Room 101'}\n",
      "- {'start': '2025-09-15T09:00', 'end': '2025-09-15T10:00', 'title': 'Week 4: Requirements Analysis', 'reason': 'Consistent weekly slot on Mon 09:00 avoiding conflicts', 'location': 'Room 101'}\n",
      "- {'start': '2025-09-22T09:00', 'end': '2025-09-22T10:00', 'title': 'Week 5: Requirements Specification', 'reason': 'Consistent weekly slot on Mon 09:00 avoiding conflicts', 'location': 'Room 101'}\n",
      "- {'start': '2025-09-29T09:00', 'end': '2025-09-29T10:00', 'title': 'Week 6: Requirements Validation', 'reason': 'Consistent weekly slot on Mon 09:00 avoiding conflicts', 'location': 'Room 101'}\n",
      "- {'start': '2025-10-06T09:00', 'end': '2025-10-06T10:00', 'title': 'Week 7: Group Project Development', 'reason': 'Consistent weekly slot on Mon 09:00 avoiding conflicts', 'location': 'Room 101'}\n",
      "- {'start': '2025-10-13T09:00', 'end': '2025-10-13T10:00', 'title': 'Week 8: Final Presentation & Review', 'reason': 'Consistent weekly slot on Mon 09:00 avoiding conflicts', 'location': 'Room 101'}\n"
     ]
    },
    {
     "name": "stderr",
     "output_type": "stream",
     "text": [
      "2025-08-24 16:42:09 | INFO | agent | Detected calendar timezone: Asia/Bangkok\n",
      "2025-08-24 16:42:09 | INFO | agent | Created event i844g440ahpv1iblv7pn6famds (https://www.google.com/calendar/event?eid=aTg0NGc0NDBhaHB2MWlibHY3cG42ZmFtZHMgdGltbXl0aGF3MTdAbQ)\n",
      "2025-08-24 16:42:09 | INFO | agent | Created event i844g440ahpv1iblv7pn6famds (https://www.google.com/calendar/event?eid=aTg0NGc0NDBhaHB2MWlibHY3cG42ZmFtZHMgdGltbXl0aGF3MTdAbQ)\n",
      "2025-08-24 16:42:10 | INFO | agent | Detected calendar timezone: Asia/Bangkok\n",
      "2025-08-24 16:42:10 | INFO | agent | Detected calendar timezone: Asia/Bangkok\n",
      "2025-08-24 16:42:11 | INFO | agent | Created event 1n2i8pol8ip117rk9hm89il0m8 (https://www.google.com/calendar/event?eid=MW4yaThwb2w4aXAxMTdyazlobTg5aWwwbTggdGltbXl0aGF3MTdAbQ)\n",
      "2025-08-24 16:42:11 | INFO | agent | Created event 1n2i8pol8ip117rk9hm89il0m8 (https://www.google.com/calendar/event?eid=MW4yaThwb2w4aXAxMTdyazlobTg5aWwwbTggdGltbXl0aGF3MTdAbQ)\n",
      "2025-08-24 16:42:11 | INFO | agent | Detected calendar timezone: Asia/Bangkok\n",
      "2025-08-24 16:42:11 | INFO | agent | Detected calendar timezone: Asia/Bangkok\n",
      "2025-08-24 16:42:12 | INFO | agent | Created event g7vijppbi05cr16h0eisja1650 (https://www.google.com/calendar/event?eid=Zzd2aWpwcGJpMDVjcjE2aDBlaXNqYTE2NTAgdGltbXl0aGF3MTdAbQ)\n",
      "2025-08-24 16:42:12 | INFO | agent | Created event g7vijppbi05cr16h0eisja1650 (https://www.google.com/calendar/event?eid=Zzd2aWpwcGJpMDVjcjE2aDBlaXNqYTE2NTAgdGltbXl0aGF3MTdAbQ)\n",
      "2025-08-24 16:42:13 | INFO | agent | Detected calendar timezone: Asia/Bangkok\n",
      "2025-08-24 16:42:13 | INFO | agent | Detected calendar timezone: Asia/Bangkok\n",
      "2025-08-24 16:42:14 | INFO | agent | Created event gl3e6u92mfc2r9hfngosjiccns (https://www.google.com/calendar/event?eid=Z2wzZTZ1OTJtZmMycjloZm5nb3NqaWNjbnMgdGltbXl0aGF3MTdAbQ)\n",
      "2025-08-24 16:42:14 | INFO | agent | Created event gl3e6u92mfc2r9hfngosjiccns (https://www.google.com/calendar/event?eid=Z2wzZTZ1OTJtZmMycjloZm5nb3NqaWNjbnMgdGltbXl0aGF3MTdAbQ)\n",
      "2025-08-24 16:42:14 | INFO | agent | Detected calendar timezone: Asia/Bangkok\n",
      "2025-08-24 16:42:14 | INFO | agent | Detected calendar timezone: Asia/Bangkok\n",
      "2025-08-24 16:42:15 | INFO | agent | Created event fu45dm3cp6llb3rhq2bt7ise6s (https://www.google.com/calendar/event?eid=ZnU0NWRtM2NwNmxsYjNyaHEyYnQ3aXNlNnMgdGltbXl0aGF3MTdAbQ)\n",
      "2025-08-24 16:42:15 | INFO | agent | Created event fu45dm3cp6llb3rhq2bt7ise6s (https://www.google.com/calendar/event?eid=ZnU0NWRtM2NwNmxsYjNyaHEyYnQ3aXNlNnMgdGltbXl0aGF3MTdAbQ)\n",
      "2025-08-24 16:42:16 | INFO | agent | Detected calendar timezone: Asia/Bangkok\n",
      "2025-08-24 16:42:16 | INFO | agent | Detected calendar timezone: Asia/Bangkok\n",
      "2025-08-24 16:42:17 | INFO | agent | Created event 3rgfdi58vsrjf7b72b9da0h9pc (https://www.google.com/calendar/event?eid=M3JnZmRpNTh2c3JqZjdiNzJiOWRhMGg5cGMgdGltbXl0aGF3MTdAbQ)\n",
      "2025-08-24 16:42:17 | INFO | agent | Created event 3rgfdi58vsrjf7b72b9da0h9pc (https://www.google.com/calendar/event?eid=M3JnZmRpNTh2c3JqZjdiNzJiOWRhMGg5cGMgdGltbXl0aGF3MTdAbQ)\n",
      "2025-08-24 16:42:17 | INFO | agent | Detected calendar timezone: Asia/Bangkok\n",
      "2025-08-24 16:42:17 | INFO | agent | Detected calendar timezone: Asia/Bangkok\n",
      "2025-08-24 16:42:18 | INFO | agent | Created event 2l34l0rcj4276ss6o6ngk9cgm8 (https://www.google.com/calendar/event?eid=MmwzNGwwcmNqNDI3NnNzNm82bmdrOWNnbTggdGltbXl0aGF3MTdAbQ)\n",
      "2025-08-24 16:42:18 | INFO | agent | Created event 2l34l0rcj4276ss6o6ngk9cgm8 (https://www.google.com/calendar/event?eid=MmwzNGwwcmNqNDI3NnNzNm82bmdrOWNnbTggdGltbXl0aGF3MTdAbQ)\n",
      "2025-08-24 16:42:18 | INFO | agent | Detected calendar timezone: Asia/Bangkok\n",
      "2025-08-24 16:42:18 | INFO | agent | Detected calendar timezone: Asia/Bangkok\n",
      "2025-08-24 16:42:19 | INFO | agent | Created event uckkfcka0jbsrnl1of8hf4eet8 (https://www.google.com/calendar/event?eid=dWNra2Zja2EwamJzcm5sMW9mOGhmNGVldDggdGltbXl0aGF3MTdAbQ)\n",
      "2025-08-24 16:42:19 | INFO | agent | Created event uckkfcka0jbsrnl1of8hf4eet8 (https://www.google.com/calendar/event?eid=dWNra2Zja2EwamJzcm5sMW9mOGhmNGVldDggdGltbXl0aGF3MTdAbQ)\n"
     ]
    },
    {
     "name": "stdout",
     "output_type": "stream",
     "text": [
      "Created/checked:\n",
      "{'slot_index': 1, 'start': '2025-08-25T09:00', 'end': '2025-08-25T10:00', 'ok': True, 'event_id': 'i844g440ahpv1iblv7pn6famds', 'html_link': 'https://www.google.com/calendar/event?eid=aTg0NGc0NDBhaHB2MWlibHY3cG42ZmFtZHMgdGltbXl0aGF3MTdAbQ'}\n",
      "{'slot_index': 2, 'start': '2025-09-01T09:00', 'end': '2025-09-01T10:00', 'ok': True, 'event_id': '1n2i8pol8ip117rk9hm89il0m8', 'html_link': 'https://www.google.com/calendar/event?eid=MW4yaThwb2w4aXAxMTdyazlobTg5aWwwbTggdGltbXl0aGF3MTdAbQ'}\n",
      "{'slot_index': 3, 'start': '2025-09-08T09:00', 'end': '2025-09-08T10:00', 'ok': True, 'event_id': 'g7vijppbi05cr16h0eisja1650', 'html_link': 'https://www.google.com/calendar/event?eid=Zzd2aWpwcGJpMDVjcjE2aDBlaXNqYTE2NTAgdGltbXl0aGF3MTdAbQ'}\n",
      "{'slot_index': 4, 'start': '2025-09-15T09:00', 'end': '2025-09-15T10:00', 'ok': True, 'event_id': 'gl3e6u92mfc2r9hfngosjiccns', 'html_link': 'https://www.google.com/calendar/event?eid=Z2wzZTZ1OTJtZmMycjloZm5nb3NqaWNjbnMgdGltbXl0aGF3MTdAbQ'}\n",
      "{'slot_index': 5, 'start': '2025-09-22T09:00', 'end': '2025-09-22T10:00', 'ok': True, 'event_id': 'fu45dm3cp6llb3rhq2bt7ise6s', 'html_link': 'https://www.google.com/calendar/event?eid=ZnU0NWRtM2NwNmxsYjNyaHEyYnQ3aXNlNnMgdGltbXl0aGF3MTdAbQ'}\n",
      "{'slot_index': 6, 'start': '2025-09-29T09:00', 'end': '2025-09-29T10:00', 'ok': True, 'event_id': '3rgfdi58vsrjf7b72b9da0h9pc', 'html_link': 'https://www.google.com/calendar/event?eid=M3JnZmRpNTh2c3JqZjdiNzJiOWRhMGg5cGMgdGltbXl0aGF3MTdAbQ'}\n",
      "{'slot_index': 7, 'start': '2025-10-06T09:00', 'end': '2025-10-06T10:00', 'ok': True, 'event_id': '2l34l0rcj4276ss6o6ngk9cgm8', 'html_link': 'https://www.google.com/calendar/event?eid=MmwzNGwwcmNqNDI3NnNzNm82bmdrOWNnbTggdGltbXl0aGF3MTdAbQ'}\n",
      "{'slot_index': 8, 'start': '2025-10-13T09:00', 'end': '2025-10-13T10:00', 'ok': True, 'event_id': 'uckkfcka0jbsrnl1of8hf4eet8', 'html_link': 'https://www.google.com/calendar/event?eid=dWNra2Zja2EwamJzcm5sMW9mOGhmNGVldDggdGltbXl0aGF3MTdAbQ'}\n"
     ]
    }
   ],
   "source": [
    "# Use the existing `plan` JSON produced earlier in this notebook\n",
    "from importlib import reload\n",
    "\n",
    "import agents.timetable_agent as timetable_agent\n",
    "reload(timetable_agent)\n",
    "from agents.timetable_agent import TimetableAgent\n",
    "from integrations.calendar_orchestrator import schedule_from_timetable\n",
    "\n",
    "# Ensure `plan` exists; if not, create a simple fallback\n",
    "try:\n",
    "    _ = plan  # noqa: F821\n",
    "except NameError:\n",
    "    plan = {\n",
    "        \"lesson_title\": \"Sample Course\",\n",
    "        \"duration_weeks\": 4,\n",
    "        \"sections_per_week\": 1,\n",
    "        \"weekly_schedule\": [\n",
    "            {\"week\": 1, \"title\": \"Intro\"},\n",
    "            {\"week\": 2, \"title\": \"Topic A\"},\n",
    "            {\"week\": 3, \"title\": \"Topic B\"},\n",
    "            {\"week\": 4, \"title\": \"Review\"},\n",
    "        ],\n",
    "    }\n",
    "\n",
    "agent = TimetableAgent()\n",
    "sched = agent.suggest_consistent_schedule(\n",
    "    plan,\n",
    "    slot_hours=1,\n",
    "    work_hours=(9, 17),\n",
    "    calendar_id=\"primary\",\n",
    "    location_hint=\"Room 101\",\n",
    ")\n",
    "\n",
    "print(\"=== Timetable Preview ===\")\n",
    "print(\"Title:\", sched.get(\"metadata\", {}).get(\"lesson_title\"))\n",
    "print(\"Weeks:\", sched.get(\"metadata\", {}).get(\"duration_weeks\"))\n",
    "print(\"Sections/week:\", sched.get(\"metadata\", {}).get(\"sections_per_week\"))\n",
    "print(\"Slots shown (first 5):\")\n",
    "for s in (sched.get(\"suggested_slots\") or []):\n",
    "    print(\"-\", s)\n",
    "\n",
    "# Optional: actually schedule to Google Calendar (disabled by default)\n",
    "create = True\n",
    "if create:\n",
    "    results = schedule_from_timetable(sched)\n",
    "    print(\"Created/checked:\")\n",
    "    for r in results:\n",
    "        print(r)\n",
    "else:\n",
    "    print(\"Dry run only — no events created.\")"
   ]
  },
  {
   "cell_type": "code",
   "execution_count": null,
   "id": "41f35fa7",
   "metadata": {},
   "outputs": [],
   "source": []
  }
 ],
 "metadata": {
  "kernelspec": {
   "display_name": "ai-teacher-assistant (3.12.3)",
   "language": "python",
   "name": "python3"
  },
  "language_info": {
   "codemirror_mode": {
    "name": "ipython",
    "version": 3
   },
   "file_extension": ".py",
   "mimetype": "text/x-python",
   "name": "python",
   "nbconvert_exporter": "python",
   "pygments_lexer": "ipython3",
   "version": "3.12.3"
  }
 },
 "nbformat": 4,
 "nbformat_minor": 5
}
