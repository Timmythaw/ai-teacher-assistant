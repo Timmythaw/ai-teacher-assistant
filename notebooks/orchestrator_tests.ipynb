{
 "cells": [
  {
   "cell_type": "markdown",
   "id": "92bfa171",
   "metadata": {},
   "source": [
    "# Orchestrator Agent — End-to-end tests\n",
    "This notebook exercises the Orchestrator to plan and run multi-step flows with checkpoints (human-in-the-loop)."
   ]
  },
  {
   "cell_type": "code",
   "execution_count": 3,
   "id": "3d03bda0",
   "metadata": {},
   "outputs": [],
   "source": [
    "# Setup imports and path\n",
    "import sys, os, json\n",
    "sys.path.append('..')\n",
    "from importlib import reload\n",
    "from agents.orchestra import Orchestrator"
   ]
  },
  {
   "cell_type": "code",
   "execution_count": 4,
   "id": "2fc1d007",
   "metadata": {},
   "outputs": [
    {
     "name": "stderr",
     "output_type": "stream",
     "text": [
      "2025-08-24 18:11:33 | INFO | agent | Initializing Gmail service with credentials: /home/timmy/ai-teacher-assistant/credentials.json\n",
      "2025-08-24 18:11:33 | INFO | agent | Gmail service initialized successfully\n",
      "2025-08-24 18:11:33 | INFO | agent | Gmail service initialized successfully\n",
      "2025-08-24 18:11:34 | INFO | agent | Gmail service initialized successfully. Sender: timmythaw17@gmail.com\n",
      "2025-08-24 18:11:34 | INFO | agent | Gmail service initialized successfully. Sender: timmythaw17@gmail.com\n"
     ]
    },
    {
     "name": "stdout",
     "output_type": "stream",
     "text": [
      "Registered actions: ['create_google_form', 'draft_email', 'generate_assessment', 'generate_lesson_plan', 'render_assessment_markdown', 'render_lesson_markdown', 'schedule_calendar', 'send_email', 'suggest_timetable']\n"
     ]
    }
   ],
   "source": [
    "# Initialize orchestrator and register project defaults\n",
    "orch = Orchestrator()\n",
    "orch.register_defaults()\n",
    "print('Registered actions:', sorted(list(orch.tools.keys())))"
   ]
  },
  {
   "cell_type": "markdown",
   "id": "2a181d6b",
   "metadata": {},
   "source": [
    "## Lesson flow with checkpoints\n",
    "We will generate a lesson plan, render markdown, and suggest a timetable.\n",
    "The run will pause after generating the plan and again before scheduling to calendar."
   ]
  },
  {
   "cell_type": "code",
   "execution_count": 5,
   "id": "73469f7e",
   "metadata": {},
   "outputs": [
    {
     "name": "stderr",
     "output_type": "stream",
     "text": [
      "2025-08-24 18:12:13 | INFO | agent | LessonPlanAgent started with inputs: {'course_outline': '/home/timmy/ai-teacher-assistant/static/SRAS_Course_Outline.pdf'}\n",
      "2025-08-24 18:12:13 | INFO | agent | Extracted course outline: /home/timmy/ai-teacher-assistant/static/SRAS_Course_Outline.pdf (length=3397)\n",
      "2025-08-24 18:12:13 | INFO | agent | Extracted course outline: /home/timmy/ai-teacher-assistant/static/SRAS_Course_Outline.pdf (length=3397)\n"
     ]
    },
    {
     "name": "stdout",
     "output_type": "stream",
     "text": [
      "Planned tasks: [('t1', 'generate_lesson_plan'), ('t2', 'render_lesson_markdown'), ('t3', 'suggest_timetable'), ('t4', 'schedule_calendar')]\n"
     ]
    },
    {
     "name": "stderr",
     "output_type": "stream",
     "text": [
      "2025-08-24 18:12:29 | INFO | agent | LessonPlanAgent successfully generated lesson plan (weeks=8, sections_per_week=1)\n"
     ]
    },
    {
     "name": "stdout",
     "output_type": "stream",
     "text": [
      "Run state: {'status': 'paused', 'wait_for': 't1'}\n",
      "Paused after task: t1\n"
     ]
    },
    {
     "name": "stderr",
     "output_type": "stream",
     "text": [
      "2025-08-24 18:12:30 | INFO | agent | Detected calendar timezone: Asia/Bangkok\n",
      "2025-08-24 18:12:30 | INFO | agent | Fetching calendar events for next 56 days\n",
      "2025-08-24 18:12:30 | INFO | agent | Fetching calendar events for next 56 days\n",
      "2025-08-24 18:12:31 | INFO | agent | Retrieved 50 events from Google Calendar\n",
      "2025-08-24 18:12:31 | INFO | agent | Suggested 8 slots over 8 week(s)\n",
      "2025-08-24 18:12:31 | INFO | agent | Retrieved 50 events from Google Calendar\n",
      "2025-08-24 18:12:31 | INFO | agent | Suggested 8 slots over 8 week(s)\n"
     ]
    },
    {
     "name": "stdout",
     "output_type": "stream",
     "text": [
      "Run state (2): {'status': 'paused', 'wait_for': 't3'}\n",
      "Paused after task: t3\n",
      "Suggested slots (first 5):\n",
      "- {'start': '2025-08-25T16:00', 'end': '2025-08-25T17:00', 'title': 'Week 1', 'reason': 'Consistent weekly slot on Mon 16:00 avoiding conflicts', 'location': 'Room 101'}\n",
      "- {'start': '2025-09-01T16:00', 'end': '2025-09-01T17:00', 'title': 'Week 2', 'reason': 'Consistent weekly slot on Mon 16:00 avoiding conflicts', 'location': 'Room 101'}\n",
      "- {'start': '2025-09-08T16:00', 'end': '2025-09-08T17:00', 'title': 'Week 3', 'reason': 'Consistent weekly slot on Mon 16:00 avoiding conflicts', 'location': 'Room 101'}\n",
      "- {'start': '2025-09-15T16:00', 'end': '2025-09-15T17:00', 'title': 'Week 4', 'reason': 'Consistent weekly slot on Mon 16:00 avoiding conflicts', 'location': 'Room 101'}\n",
      "- {'start': '2025-09-22T16:00', 'end': '2025-09-22T17:00', 'title': 'Week 5', 'reason': 'Consistent weekly slot on Mon 16:00 avoiding conflicts', 'location': 'Room 101'}\n"
     ]
    }
   ],
   "source": [
    "# Build options for lesson + timetable\n",
    "outline_path = os.environ.get('COURSE_OUTLINE_PATH', '/home/timmy/ai-teacher-assistant/static/SRAS_Course_Outline.pdf')\n",
    "opts = {\n",
    "    'lesson_input': {\n",
    "        'sources': { 'course_outline': outline_path },\n",
    "        'duration_weeks': 8,\n",
    "        'class_size': 30,\n",
    "        'sections_per_week': 1,\n",
    "    },\n",
    "    'timetable_opts': {\n",
    "        'slot_hours': 1,\n",
    "        'work_hours': [9, 17],\n",
    "        'calendar_id': 'primary',\n",
    "        'location_hint': 'Room 101',\n",
    "    }\n",
    "}\n",
    "\n",
    "plan = orch.plan('Create a lesson plan and timetable', options=opts)\n",
    "print('Planned tasks:', [ (t['id'], t['action']) for t in plan['tasks'] ])\n",
    "\n",
    "state = orch.run(plan)\n",
    "print('Run state:', state['state'])\n",
    "if state['state']['status'] == 'paused':\n",
    "    print('Paused after task:', state['state'].get('wait_for'))\n",
    "    # Resume from pause\n",
    "    state2 = orch.run(state)\n",
    "    print('Run state (2):', state2['state'])\n",
    "    if state2['state']['status'] == 'paused':\n",
    "        print('Paused after task:', state2['state'].get('wait_for'))\n",
    "        # At this point we have suggested timetable. Preview first slots and stop before scheduling\n",
    "        tts = [t for t in state2['tasks'] if t['action'] == 'suggest_timetable']\n",
    "        if tts and isinstance(tts[0].get('result'), dict):\n",
    "            slots = (tts[0]['result'].get('suggested_slots') or [])[:5]\n",
    "            print('Suggested slots (first 5):')\n",
    "            for s in slots:\n",
    "                print('-', s)"
   ]
  },
  {
   "cell_type": "markdown",
   "id": "83ebb797",
   "metadata": {},
   "source": [
    "## Assessment flow with checkpoint\n",
    "We will generate an assessment and render markdown. The run pauses after generating the assessment (before creating a Google Form)."
   ]
  },
  {
   "cell_type": "code",
   "execution_count": 6,
   "id": "ce91670c",
   "metadata": {},
   "outputs": [
    {
     "name": "stderr",
     "output_type": "stream",
     "text": [
      "2025-08-24 18:12:51 | INFO | agent | LessonPlanAgent started with inputs: {'type': 'MCQ', 'difficulty': 'Medium', 'count': 5, 'rubric': True}\n",
      "2025-08-24 18:12:51 | INFO | agent | Extracted text from PDF: /home/timmy/ai-teacher-assistant/static/Lecture_Slide.pdf (length=7438)\n",
      "2025-08-24 18:12:51 | INFO | agent | Extracted text from PDF: /home/timmy/ai-teacher-assistant/static/Lecture_Slide.pdf (length=7438)\n"
     ]
    },
    {
     "name": "stdout",
     "output_type": "stream",
     "text": [
      "Planned tasks: [('t1', 'generate_assessment'), ('t2', 'render_assessment_markdown'), ('t3', 'create_google_form')]\n"
     ]
    },
    {
     "name": "stderr",
     "output_type": "stream",
     "text": [
      "2025-08-24 18:12:56 | INFO | agent | AssessmentAgent successfully generated assessment with 5 questions\n"
     ]
    },
    {
     "name": "stdout",
     "output_type": "stream",
     "text": [
      "{\n",
      "  \"title\": \"Assessment on Software Requirements and SDLC Models\",\n",
      "  \"type\": \"MCQ\",\n",
      "  \"difficulty\": \"Medium\",\n",
      "  \"questions\": [\n",
      "    {\n",
      "      \"q\": \"Which of the following best describes the Software Development Life Cycle (SDLC)?\",\n",
      "      \"options\": [\n",
      "        \"A programming language used to develop software\",\n",
      "        \"A framework defining tasks performed at each step in the software development process\",\n",
      "        \"A testing methodology for debugging software\",\n",
      "        \"A document that contains only user requirements\"\n",
      "      ],\n",
      "      \"answer\": \"A framework defining tasks performed at each step in the software development process\"\n",
      "    },\n",
      "    {\n",
      "      \"q\": \"In the Waterfall Model, which statement is true?\",\n",
      "      \"options\": [\n",
      "        \"Phases can overlap and run in parallel\",\n",
      "        \"The next phase starts only after the previous phase has finished\",\n",
      "        \"It emphasizes iterative development\",\n",
      "        \"It is primarily used in Agile methodologies\"\n",
      "      ],\n",
      "      \"answer\": \"The next phase starts only after the previous phase has finished\"\n",
      "    },\n",
      "    {\n",
      "      \"q\": \"Which of the following is NOT a type of system testing in the Waterfall Model?\",\n",
      "      \"options\": [\n",
      "        \"Alpha testing\",\n",
      "        \"Beta testing\",\n",
      "        \"Acceptance testing\",\n",
      "        \"Exploratory testing\"\n",
      "      ],\n",
      "      \"answer\": \"Exploratory testing\"\n",
      "    },\n",
      "    {\n",
      "      \"q\": \"What is the main goal of Requirement Engineering?\",\n",
      "      \"options\": [\n",
      "        \"To write the code for the software\",\n",
      "        \"To create and maintain detailed System Requirements Specification documents\",\n",
      "        \"To perform system integration testing\",\n",
      "        \"To deliver patches and updates during maintenance\"\n",
      "      ],\n",
      "      \"answer\": \"To create and maintain detailed System Requirements Specification documents\"\n",
      "    },\n",
      "    {\n",
      "      \"q\": \"Which of the following is NOT a step in software requirements engineering?\",\n",
      "      \"options\": [\n",
      "        \"Requirements elicitation\",\n",
      "        \"Requirements analysis\",\n",
      "        \"Requirements specification\",\n",
      "        \"System integration\"\n",
      "      ],\n",
      "      \"answer\": \"System integration\"\n",
      "    }\n",
      "  ],\n",
      "  \"rubric\": [\n",
      "    {\n",
      "      \"criteria\": \"Correct answer selected\",\n",
      "      \"points\": 2\n",
      "    },\n",
      "    {\n",
      "      \"criteria\": \"Incorrect answer selected\",\n",
      "      \"points\": 0\n",
      "    },\n",
      "    {\n",
      "      \"criteria\": \"Total possible points\",\n",
      "      \"points\": 10\n",
      "    }\n",
      "  ]\n",
      "}\n",
      "Run state: {'status': 'paused', 'wait_for': 't1'}\n",
      "Assessment questions: 5\n"
     ]
    }
   ],
   "source": [
    "# Prepare assessment options\n",
    "lecture_pdf = '/home/timmy/ai-teacher-assistant/static/Lecture_Slide.pdf'\n",
    "opts2 = {\n",
    "    'assessment_input': {\n",
    "        'source': lecture_pdf,\n",
    "        'spec': { 'type': 'MCQ', 'difficulty': 'Medium', 'count': 5, 'rubric': True }\n",
    "    }\n",
    "}\n",
    "\n",
    "plan2 = orch.plan('Generate an assessment from a lecture PDF', options=opts2)\n",
    "print('Planned tasks:', [ (t['id'], t['action']) for t in plan2['tasks'] ])\n",
    "\n",
    "stateA = orch.run(plan2)\n",
    "print('Run state:', stateA['state'])\n",
    "if stateA['state']['status'] == 'paused':\n",
    "    # The assessment should be available now; show summary\n",
    "    at = [t for t in stateA['tasks'] if t['action'] == 'generate_assessment']\n",
    "    if at and isinstance(at[0].get('result'), dict):\n",
    "        qn = len(at[0]['result'].get('questions') or [])\n",
    "        print('Assessment questions:', qn)\n",
    "    md = [t for t in stateA['tasks'] if t['action'] == 'render_assessment_markdown']\n",
    "    if md and isinstance(md[0].get('result'), str):\n",
    "        print('Markdown length:', len(md[0]['result']))\n",
    "    # Stop here to avoid creating a Google Form in tests"
   ]
  },
  {
   "cell_type": "code",
   "execution_count": null,
   "id": "ec8dd548",
   "metadata": {},
   "outputs": [],
   "source": []
  },
  {
   "cell_type": "markdown",
   "id": "d2755918",
   "metadata": {},
   "source": [
    "## Prompt-driven runs\n",
    "Use plain-language prompts to plan and run tasks. These examples use static files for inputs to keep tests reproducible."
   ]
  },
  {
   "cell_type": "code",
   "execution_count": 7,
   "id": "a6ec4891",
   "metadata": {},
   "outputs": [],
   "source": [
    "# Helpers: ensure orchestrator is available, pretty-print tasks, and run a prompt\n",
    "try:\n",
    "    orch\n",
    "except NameError:\n",
    "    import sys, os\n",
    "    sys.path.append('..')\n",
    "    from agents.orchestra import Orchestrator\n",
    "    orch = Orchestrator()\n",
    "    orch.register_defaults()\n",
    "    print(\"Orchestrator initialized and defaults registered.\")\n",
    "\n",
    "def pp_tasks(state_or_plan):\n",
    "    tasks = state_or_plan.get('tasks', [])\n",
    "    for t in tasks:\n",
    "        tid = t.get('id')\n",
    "        action = t.get('action')\n",
    "        status = t.get('status', 'planned')\n",
    "        print(f\"{tid} | {action} | status={status}\")\n",
    "\n",
    "def run_prompt(prompt: str, options: dict | None = None, resume: bool = False):\n",
    "    print(\"Prompt:\", prompt)\n",
    "    plan = orch.plan(prompt, options=options or {})\n",
    "    print(\"Planned tasks:\")\n",
    "    pp_tasks(plan)\n",
    "    state = orch.run(plan)\n",
    "    print(\"Run state:\", state.get('state'))\n",
    "    if resume and state.get('state', {}).get('status') == 'paused':\n",
    "        state2 = orch.run(state)\n",
    "        print(\"Run state (2):\", state2.get('state'))\n",
    "        return state2\n",
    "    return state"
   ]
  },
  {
   "cell_type": "markdown",
   "id": "78cfabc8",
   "metadata": {},
   "source": [
    "### Example 1: Lesson plan and timetable (pauses before scheduling)\n",
    "Uses the course outline PDF in `static/` and suggests a timetable. The run pauses prior to adding events to Google Calendar."
   ]
  },
  {
   "cell_type": "code",
   "execution_count": 8,
   "id": "cccec53d",
   "metadata": {},
   "outputs": [
    {
     "name": "stderr",
     "output_type": "stream",
     "text": [
      "2025-08-24 18:16:59 | INFO | agent | LessonPlanAgent started with inputs: {'course_outline': '/home/timmy/ai-teacher-assistant/static/SRAS_Course_Outline.pdf'}\n",
      "2025-08-24 18:16:59 | INFO | agent | Extracted course outline: /home/timmy/ai-teacher-assistant/static/SRAS_Course_Outline.pdf (length=3397)\n",
      "2025-08-24 18:16:59 | INFO | agent | Extracted course outline: /home/timmy/ai-teacher-assistant/static/SRAS_Course_Outline.pdf (length=3397)\n"
     ]
    },
    {
     "name": "stdout",
     "output_type": "stream",
     "text": [
      "Prompt: Create a lesson plan and timetable\n",
      "Planned tasks:\n",
      "t1 | generate_lesson_plan | status=pending\n",
      "t2 | render_lesson_markdown | status=pending\n",
      "t3 | suggest_timetable | status=pending\n",
      "t4 | schedule_calendar | status=pending\n"
     ]
    },
    {
     "name": "stderr",
     "output_type": "stream",
     "text": [
      "2025-08-24 18:17:13 | INFO | agent | LessonPlanAgent successfully generated lesson plan (weeks=8, sections_per_week=1)\n"
     ]
    },
    {
     "name": "stdout",
     "output_type": "stream",
     "text": [
      "Run state: {'status': 'paused', 'wait_for': 't1'}\n",
      "No suggested slots found yet.\n"
     ]
    }
   ],
   "source": [
    "lesson_prompt = \"Create a lesson plan and timetable\"\n",
    "outline_path = os.environ.get('COURSE_OUTLINE_PATH', '/home/timmy/ai-teacher-assistant/static/SRAS_Course_Outline.pdf')\n",
    "lesson_options = {\n",
    "    'lesson_input': {\n",
    "        'sources': { 'course_outline': outline_path },\n",
    "        'duration_weeks': 8,\n",
    "        'class_size': 30,\n",
    "        'sections_per_week': 1,\n",
    "    },\n",
    "    'timetable_opts': {\n",
    "        'slot_hours': 1,\n",
    "        'work_hours': [9, 17],\n",
    "        'calendar_id': 'primary',\n",
    "        'location_hint': 'Room 101',\n",
    "    }\n",
    "}\n",
    "\n",
    "state_lesson = run_prompt(lesson_prompt, lesson_options, resume=False)\n",
    "if state_lesson.get('state', {}).get('status') == 'paused':\n",
    "    # Preview suggested slots if available\n",
    "    tts = [t for t in state_lesson.get('tasks', []) if t.get('action') == 'suggest_timetable']\n",
    "    if tts and isinstance(tts[0].get('result'), dict):\n",
    "        slots = (tts[0]['result'].get('suggested_slots') or [])[:5]\n",
    "        print('Suggested slots (first 5):')\n",
    "        for s in slots:\n",
    "            print('-', s)\n",
    "    else:\n",
    "        print('No suggested slots found yet.')"
   ]
  },
  {
   "cell_type": "markdown",
   "id": "e370302e",
   "metadata": {},
   "source": [
    "### Example 2: Assessment generation (pauses before creating Google Form)\n",
    "Uses a static lecture PDF to generate an assessment and render markdown, then pauses before creating a Google Form."
   ]
  },
  {
   "cell_type": "code",
   "execution_count": 9,
   "id": "507df45f",
   "metadata": {},
   "outputs": [
    {
     "name": "stderr",
     "output_type": "stream",
     "text": [
      "2025-08-24 18:17:38 | INFO | agent | LessonPlanAgent started with inputs: {'type': 'MCQ', 'difficulty': 'Medium', 'count': 5, 'rubric': True}\n",
      "2025-08-24 18:17:38 | INFO | agent | Extracted text from PDF: /home/timmy/ai-teacher-assistant/static/Lecture_Slide.pdf (length=7438)\n",
      "2025-08-24 18:17:38 | INFO | agent | Extracted text from PDF: /home/timmy/ai-teacher-assistant/static/Lecture_Slide.pdf (length=7438)\n"
     ]
    },
    {
     "name": "stdout",
     "output_type": "stream",
     "text": [
      "Prompt: Generate an assessment from a lecture PDF and prepare a Google Form\n",
      "Planned tasks:\n",
      "t1 | generate_assessment | status=pending\n",
      "t2 | render_assessment_markdown | status=pending\n",
      "t3 | create_google_form | status=pending\n"
     ]
    },
    {
     "name": "stderr",
     "output_type": "stream",
     "text": [
      "2025-08-24 18:17:43 | INFO | agent | AssessmentAgent successfully generated assessment with 5 questions\n"
     ]
    },
    {
     "name": "stdout",
     "output_type": "stream",
     "text": [
      "{\n",
      "  \"title\": \"Assessment on Software Development Life Cycle and Requirements Engineering\",\n",
      "  \"type\": \"MCQ\",\n",
      "  \"difficulty\": \"Medium\",\n",
      "  \"questions\": [\n",
      "    {\n",
      "      \"q\": \"Which of the following best describes the Software Development Life Cycle (SDLC)?\",\n",
      "      \"options\": [\n",
      "        \"A programming language used for software development\",\n",
      "        \"A framework defining tasks performed at each step in the software development process\",\n",
      "        \"A tool for debugging software\",\n",
      "        \"A testing methodology for software products\"\n",
      "      ],\n",
      "      \"answer\": \"A framework defining tasks performed at each step in the software development process\"\n",
      "    },\n",
      "    {\n",
      "      \"q\": \"In the Waterfall Model, what is the purpose of the Requirement Specification phase?\",\n",
      "      \"options\": [\n",
      "        \"To design the system architecture\",\n",
      "        \"To gather and document customer requirements in the SRS document\",\n",
      "        \"To test the integrated system\",\n",
      "        \"To release patches for maintenance\"\n",
      "      ],\n",
      "      \"answer\": \"To gather and document customer requirements in the SRS document\"\n",
      "    },\n",
      "    {\n",
      "      \"q\": \"Which type of system testing is performed by a friendly set of customers?\",\n",
      "      \"options\": [\n",
      "        \"Alpha testing\",\n",
      "        \"Beta testing\",\n",
      "        \"Acceptance testing\",\n",
      "        \"Unit testing\"\n",
      "      ],\n",
      "      \"answer\": \"Beta testing\"\n",
      "    },\n",
      "    {\n",
      "      \"q\": \"Which of the following is NOT a step in Requirements Engineering?\",\n",
      "      \"options\": [\n",
      "        \"Requirements elicitation\",\n",
      "        \"Requirements analysis\",\n",
      "        \"Requirements specification\",\n",
      "        \"System maintenance\"\n",
      "      ],\n",
      "      \"answer\": \"System maintenance\"\n",
      "    },\n",
      "    {\n",
      "      \"q\": \"In the V-Model, which process ensures that the developed system meets the stakeholder needs?\",\n",
      "      \"options\": [\n",
      "        \"Verification\",\n",
      "        \"Validation\",\n",
      "        \"Implementation\",\n",
      "        \"Unit Testing\"\n",
      "      ],\n",
      "      \"answer\": \"Validation\"\n",
      "    }\n",
      "  ],\n",
      "  \"rubric\": [\n",
      "    {\n",
      "      \"criteria\": \"Correct answer selected\",\n",
      "      \"points\": 2\n",
      "    },\n",
      "    {\n",
      "      \"criteria\": \"Incorrect answer selected\",\n",
      "      \"points\": 0\n",
      "    },\n",
      "    {\n",
      "      \"criteria\": \"Total possible points\",\n",
      "      \"points\": 10\n",
      "    }\n",
      "  ]\n",
      "}\n",
      "Run state: {'status': 'paused', 'wait_for': 't1'}\n",
      "Assessment questions: 5\n",
      "No markdown result yet.\n"
     ]
    }
   ],
   "source": [
    "assessment_prompt = \"Generate an assessment from a lecture PDF and prepare a Google Form\"\n",
    "lecture_pdf = '/home/timmy/ai-teacher-assistant/static/Lecture_Slide.pdf'\n",
    "assessment_options = {\n",
    "    'assessment_input': {\n",
    "        'source': lecture_pdf,\n",
    "        'spec': { 'type': 'MCQ', 'difficulty': 'Medium', 'count': 5, 'rubric': True }\n",
    "    }\n",
    "}\n",
    "\n",
    "state_assessment = run_prompt(assessment_prompt, assessment_options, resume=False)\n",
    "if state_assessment.get('state', {}).get('status') == 'paused':\n",
    "    at = [t for t in state_assessment.get('tasks', []) if t.get('action') == 'generate_assessment']\n",
    "    if at and isinstance(at[0].get('result'), dict):\n",
    "        qn = len(at[0]['result'].get('questions') or [])\n",
    "        print('Assessment questions:', qn)\n",
    "    md = [t for t in state_assessment.get('tasks', []) if t.get('action') == 'render_assessment_markdown']\n",
    "    if md and isinstance(md[0].get('result'), str):\n",
    "        print('Markdown length:', len(md[0]['result']))\n",
    "    else:\n",
    "        print('No markdown result yet.')"
   ]
  }
 ],
 "metadata": {
  "kernelspec": {
   "display_name": "ai-teacher-assistant (3.12.3)",
   "language": "python",
   "name": "python3"
  },
  "language_info": {
   "codemirror_mode": {
    "name": "ipython",
    "version": 3
   },
   "file_extension": ".py",
   "mimetype": "text/x-python",
   "name": "python",
   "nbconvert_exporter": "python",
   "pygments_lexer": "ipython3",
   "version": "3.12.3"
  }
 },
 "nbformat": 4,
 "nbformat_minor": 5
}
