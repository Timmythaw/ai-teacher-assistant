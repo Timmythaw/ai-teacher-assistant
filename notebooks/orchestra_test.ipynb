{
 "cells": [
  {
   "cell_type": "code",
   "execution_count": 2,
   "id": "34d50f74",
   "metadata": {},
   "outputs": [],
   "source": [
    "import sys\n",
    "sys.path.append(\"..\")\n",
    "from agents.orchestra import validate_json_schema"
   ]
  },
  {
   "cell_type": "code",
   "execution_count": 3,
   "id": "648b16a7",
   "metadata": {},
   "outputs": [
    {
     "name": "stdout",
     "output_type": "stream",
     "text": [
      "True {'tasks': [{'step': 1, 'action': 'generate_lesson_plan', 'input': 'outline.pdf'}]}\n"
     ]
    }
   ],
   "source": [
    "raw = '{\"tasks\":[{\"step\":1,\"action\":\"generate_lesson_plan\",\"input\":\"outline.pdf\"}]}'\n",
    "ok, data = validate_json_schema(raw, [\"tasks\"])\n",
    "print(ok, data)"
   ]
  },
  {
   "cell_type": "code",
   "execution_count": 6,
   "id": "4601f4dd",
   "metadata": {},
   "outputs": [],
   "source": [
    "import sys\n",
    "sys.path.append(\"..\")\n",
    "from core.pdf_tool import extract_text_from_pdf"
   ]
  },
  {
   "cell_type": "code",
   "execution_count": null,
   "id": "0c337f3f",
   "metadata": {},
   "outputs": [],
   "source": [
    "material_text = extract_text_from_pdf(\"/home/timmy/ai-teacher-assistant/static/2025_CH00-SRAS_Introduction.pptx.pdf\")"
   ]
  }
 ],
 "metadata": {
  "kernelspec": {
   "display_name": ".venv",
   "language": "python",
   "name": "python3"
  },
  "language_info": {
   "codemirror_mode": {
    "name": "ipython",
    "version": 3
   },
   "file_extension": ".py",
   "mimetype": "text/x-python",
   "name": "python",
   "nbconvert_exporter": "python",
   "pygments_lexer": "ipython3",
   "version": "3.12.3"
  }
 },
 "nbformat": 4,
 "nbformat_minor": 5
}
