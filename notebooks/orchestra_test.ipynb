{
 "cells": [
  {
   "cell_type": "code",
   "execution_count": 9,
   "id": "e041d749",
   "metadata": {},
   "outputs": [],
   "source": [
    "from IPython.display import Markdown, display"
   ]
  },
  {
   "cell_type": "markdown",
   "id": "510924e7",
   "metadata": {},
   "source": [
    "## Json Validate Test"
   ]
  },
  {
   "cell_type": "code",
   "execution_count": 2,
   "id": "34d50f74",
   "metadata": {},
   "outputs": [],
   "source": [
    "import sys\n",
    "sys.path.append(\"..\")\n",
    "from agents.orchestra import validate_json_schema"
   ]
  },
  {
   "cell_type": "code",
   "execution_count": 3,
   "id": "648b16a7",
   "metadata": {},
   "outputs": [
    {
     "name": "stdout",
     "output_type": "stream",
     "text": [
      "True {'tasks': [{'step': 1, 'action': 'generate_lesson_plan', 'input': 'outline.pdf'}]}\n"
     ]
    }
   ],
   "source": [
    "raw = '{\"tasks\":[{\"step\":1,\"action\":\"generate_lesson_plan\",\"input\":\"outline.pdf\"}]}'\n",
    "ok, data = validate_json_schema(raw, [\"tasks\"])\n",
    "print(ok, data)"
   ]
  },
  {
   "cell_type": "markdown",
   "id": "ec1fc1a3",
   "metadata": {},
   "source": [
    "## PDF Extract and Text Clean Test"
   ]
  },
  {
   "cell_type": "code",
   "execution_count": 6,
   "id": "4601f4dd",
   "metadata": {},
   "outputs": [],
   "source": [
    "import sys\n",
    "sys.path.append(\"..\")\n",
    "from core.pdf_tool import extract_text_from_pdf"
   ]
  },
  {
   "cell_type": "code",
   "execution_count": 7,
   "id": "0c337f3f",
   "metadata": {},
   "outputs": [],
   "source": [
    "material_text = extract_text_from_pdf(\"/home/timmy/ai-teacher-assistant/static/2025_CH00-SRAS_Introduction.pptx.pdf\")"
   ]
  },
  {
   "cell_type": "code",
   "execution_count": 10,
   "id": "5ea8d61d",
   "metadata": {},
   "outputs": [
    {
     "data": {
      "text/markdown": [
       "Software Requirements Analysis and Specification A J. Pr asara J akkaew Email: prasara.jak@mfu.ac.th Academic Y ear / S chool of Information T echnology, Mae F ah Luang University 2Course Description ●Requirements elicitation; ●Requirements analysis; ●Requirements negotiation; ●Requirements specification; ●Requirements validation; ●Formal specification. ●Techniques and tools used to define; ●Document and ensure customer satisfaction  Course Objective •To perform requirements engineering in the context of the most common software development life cycles and processes •To introduce techniques for requirements elicitation and analysis •To develop functional and non-functional requirements •To create a requirements specification to communicate requirements to a broad set of stakeholders •To effectively analyze requirements and prioritize accordingly Google Class Code tnaxwix7 For announcement 4https://classroom.google.com/c/N zgzM T g5NDk0MDc3?cjc=tnaxwix7 Google Form : For Quiz and Participant  https://forms.gle/ZKymd4teuaijDDvE7 Introduction to software requirement engineering What is software requirement engineering, software requirement principles, software process requirements, functional and nonfunctional requirements, system requirements and software requirements Requirements Process ● Process Models ● Process Actors ● Process Quality and Improvement ● Software Requirement Modeling (UML) for example; Use case diagram, Activity Diagrams, Workflow Requirements Elicitation ● Requirements Sources ● Elicitation Techniques Requirements Analysis ● Requirements Classification ● Conceptual Modeling ● Architectural Design and Requirements Allocation ● Requirements Negotiation ● Formal Analysis Course Outline Requirements Specification ● System Definition Document ● System Requirements Specification ● Software Requirements Specification Requirements Validation ● Requirements Reviews ● Prototyping ● Model Validation ● Acceptance Tests Course Outline 8Lesson Plan: Before Midterm Exam W eek\\ Date T opics   Aug  Course Introduction   Aug  (Holiday) No Class   Aug  (Sci Day) Chapter : Introduction to software requirement engineering   Aug  Chapter : Requirements Engineering Process   Sep  Chapter : Requirement Elicitation Part#   Sep  Assignment : Interview your stakeholders   Sep  Assignment : Interview your stakeholders   Sep  (no class) Presentation  9Lesson Plan: After Midterm Exam W eek Date T opics   Sep  (Midterm) No Class   Oct  Chapter : Requirement Analysis   Oct  (holiday) No Class (Workshop Checklist & Consult) ONLINE   Oct  Chapter : Requirement Specification   Oct  Chapter : Requirement Validation   Workshop Checklist & Consult   Nov  Final Presentation   Nov  Final Presentation  Final Exam No Class Evaluation ● Midterm % ● Final % ● Group Project % ● Quiz and Assignment % ● Participation % ●Software Requirements will collaborate with Database and Web application development ●Group Work ■- members /  group ●Topic: Freestyle ●Link group member: Project and Assignment https://docs.google.com/spreadsheets/d/1_O6S KZ_fF Mz7K jypS O W14Q S C_0liDPfoOC-iA Yt4oE w/edit?usp=sharing  Grading A - B+ - B - C+ - C - D+ - D - F -  Teaching Rules •Students are required to attend all classes . •Check-in class and sometime has a quiz •The assignment has to send it to be on time before the deadline. If you turn in late , it means you will get  point .   Introduction to Software Requirements  Software Development Life Cycle What is ?  Software Development Life Cycle (SDLC) model is a simplified representation of a “Software Development Process Models”. ●SDLC is a framework defining tasks performed at each step in the software development process. ●The roadmap to building high quality software products is software process. ●Different life cycle models may plan the necessary development activities to phases in different ways.  ●Following are the most important and popular SDLC models followed in the industry ○Waterfall Model ○V-Modell ○Spiral Model ○Iterative Mode Other related methodologies are Agile Model, Incremental Model, Rapid Application Development Model (RAD) Model, and Prototyping Models.  Requirements Analysis and Specification •Consultation •System users/Customer System and software design •System architecture •UXUI Implementation and unit testing •Programmer Integration and system testing •Tester Operation and maintenance •Support team Waterfall Model     “The following phase should not be start until the previous phase has finished”  The aim of the requirement analysis and specification phase is to understand the exact requirements of the customer and document them properly. This phase consists of two different activities. Requirements Analysis and Specification Waterfall Model  https://www.geeksforgeeks.org/software-engineering-classical-waterfall-m odel/ . Requirement gathering and analysis: Firstly all the requirements regarding the software are gathered from the customer and then the gathered requirements are analyzed. . Requirement specification: These analyzed requirements are documented in a software requirement specification (SRS) document. SRS document serves as a contract between development team and customers .  Why do we need user research? Customer insights Function Priority Usability Understand what Problems customers want solved Analyze how important These problems are to customersWhat products and features we can develop to solve these problems R esource from S lideshare :: J oan Lumanauw SurveysInterviewsFocus Group  The aim of the design phase is to transform the requirements specified in the SRS document into a structure that is suitable for implementation in some programming language. It defines the overall software architecture together with high level and detailed design. All this work is documented as a Software Design Document (SDD). System and software design Waterfall Model  https://www.geeksforgeeks.org/software-engineering-classical-waterfall-m odel/ ● Plan the programming language, for Example Java , PHP , ASP .net ● or database like Oracle, MySQL, etc. ● Or other high-level technical details of the project Example:  This phase aims to transform the requirements gathered in the SRS into a suitable form which permits further coding in a programming language. With inputs from the system design, the system is first developed in small programs called units, which are integrated in the next phase. Each unit is developed and tested for its functionality, which is referred to as Unit Testing. Implementation and unit testing Waterfall Model  Input x Function f() Output y Unit Testing  All the units developed in the implementation phase are integrated into a system after testing of each unit. Post integration the entire system is tested for any faults and failures. System testing consists three diﬀerent kinds of testing activities as described below :Integration and system testing Waterfall Model  ●Alpha testing: Alpha testing is the system testing performed by the development team. ●Beta testing: Beta testing is the system testing performed by a friendly set of customers. ●Acceptance testing: After the software has been delivered, the customer performed the acceptance testing to determine whether to accept the delivered software or to reject it. https://www.geeksforgeeks.org/software-engineering-classical-waterfall-m od e l/  Maintenance is the most important phase of a software life cycle. The effort spent on maintenance is the % of the total effort spent to develop a full software. There are some issues which come up in the client environment. To fix those issues, patches are released. Also to enhance the product some better versions are released. Maintenance is done to deliver these changes in the customer environment. Operation and maintenance Waterfall Model  https://www.geeksforgeeks.org/software-engineering-classical-waterfall-m odel/  Verification and validation are the processes of confirming that systems engineering artifacts generated during the transformation processes are acceptable J ournal R eference by M ike Ryan and Louis S Wheatcraft On the U se of the T erms V eriﬁcation and V alidation : J u ly 2017I NC O S E I nternational Symposium ():- V Model  Verification and Validation and the Systems Engineering \" V \" Model V Model J ournal R eference by M ike Ryan and Louis S Wheatcraft On the U se of the T erms V eriﬁcation and V alidation : J u ly 2017I NC O S E I nternational Symposium ():- Stakeholder Requirements System Requirements System Integration Verification Development Unit/Component Requirements Subsystem Requirements Acceptance/Operational Evaluation and Validation Subsystem Integration Verification Unit/Component Verification Stakeholder Needs PRODUCT Requirement & Design Verification & Validation System Integration, Verification, & Validation Requirement & Development, Decomposition, Definition, & Design Concept Development Design Production Operations Product Lifecycle  Requirement Engineering  What is requirements engineering?  ●Requirement engineering is usually the first step in any software development life cycle ●The process to gather the software requirements from client, analyze and document them is known as requirement engineering. ●The goal of requirement engineering is to create and maintain detailed ‘System Requirements Specification' documents. R esource by https://medium.com/omarelgabrys-blog/software-engineering-process-activit ies-part--ca1ef6818fd6 ●Ensures your software will meet the user expectations, and ending up with a high-quality software 29What is requirements engineering? What is requirements engineering? ●Software requirements engineering is the process of determining what will be developed in a software system. ●The  steps of software requirements engineering are ○Requirements elicitation , ○Requirements analysis , ○Requirements specification , ○Requirements validation .  •Stakeholders point of view •Project scope •Business objectives •Users point of view (UI) •User Goals •Functional Requirements •What the system does •Non-Functional Requirements User Requirements System Requirements Business Requirements Understand Requirements Types  Understanding Documenting Systematic Agreement What is Requirements Engineering?  Elicitation V alidation Anal ysis Specification Identifying, Discovering R esource by D. Monett–Europe W eek2015, University of Hertfordshire, Hatﬁeld Evaluation, Verifying Classifying, Representing, Deriving, Negotiating Documenting, SRS Close gapsclarify Confirm and correct rewrite re-evaluate The Requirement Development Processes     Requirement Engineering Software Requirements Fundamentals We will learn …… Software Process Model Requirement Elicitation Requirement Analysis Requirement Documentation Requirement Validation Practical Consideration"
      ],
      "text/plain": [
       "<IPython.core.display.Markdown object>"
      ]
     },
     "metadata": {},
     "output_type": "display_data"
    }
   ],
   "source": [
    "display(Markdown(material_text))"
   ]
  },
  {
   "cell_type": "markdown",
   "id": "22468d76",
   "metadata": {},
   "source": [
    "## Assessment Generator Agent Test"
   ]
  },
  {
   "cell_type": "code",
   "execution_count": 41,
   "id": "e6695ffb",
   "metadata": {},
   "outputs": [],
   "source": [
    "import sys\n",
    "sys.path.append('..')\n",
    "from agents.lesson_plan_agent import LessonPlanAgent"
   ]
  },
  {
   "cell_type": "code",
   "execution_count": 42,
   "id": "707ede35",
   "metadata": {},
   "outputs": [
    {
     "name": "stdout",
     "output_type": "stream",
     "text": [
      "{'error': 'Model did not return valid JSON.'}\n"
     ]
    }
   ],
   "source": [
    "lp_agent = LessonPlanAgent()\n",
    "plan = lp_agent.generate_plan({\"course_outline\": \"/home/timmy/ai-teacher-assistant/static/SRAS_Course_Outline.pdf\"}, 8, 30, 1)\n",
    "print(plan)"
   ]
  },
  {
   "cell_type": "markdown",
   "id": "93e56d15",
   "metadata": {},
   "source": [
    "## Assessment Agent Test"
   ]
  },
  {
   "cell_type": "code",
   "execution_count": 65,
   "id": "1894303b",
   "metadata": {},
   "outputs": [],
   "source": [
    "import sys\n",
    "sys.path.append('..')\n",
    "from agents.assessment_agent import AssessmentAgent\n",
    "from core.logger import logger"
   ]
  },
  {
   "cell_type": "code",
   "execution_count": 66,
   "id": "be560776",
   "metadata": {},
   "outputs": [
    {
     "name": "stdout",
     "output_type": "stream",
     "text": [
      "```json\n",
      "{\n",
      "  \"type\": \"MCQ\",\n",
      "  \"difficulty\": \"Medium\",\n",
      "  \"questions\": [\n",
      "    {\n",
      "      \"q\": \"Which of the following best describes the Software Development Life Cycle (SDLC)?\",\n",
      "      \"options\": [\n",
      "        \"A programming language used to develop software\",\n",
      "        \"A framework defining tasks performed at each step in the software development process\",\n",
      "        \"A testing methodology for debugging software\",\n",
      "        \"A tool used for software project management\"\n",
      "      ],\n",
      "      \"answer\": \"A framework defining tasks performed at each step in the software development process\"\n",
      "    },\n",
      "    {\n",
      "      \"q\": \"In the Waterfall Model, when can the next phase begin?\",\n",
      "      \"options\": [\n",
      "        \"As soon as the project manager approves\",\n",
      "        \"When the customer requests it\",\n",
      "        \"Only after the previous phase has been completed\",\n",
      "        \"At any time in parallel with other phases\"\n",
      "      ],\n",
      "      \"answer\": \"Only after the previous phase has been completed\"\n",
      "    },\n",
      "    {\n",
      "      \"q\": \"Which document serves as a contract between the development team and the customer during requirements engineering?\",\n",
      "      \"options\": [\n",
      "        \"Software Design Document (SDD)\",\n",
      "        \"Software Requirement Specification (SRS)\",\n",
      "        \"User Acceptance Testing Report\",\n",
      "        \"Project Charter\"\n",
      "      ],\n",
      "      \"answer\": \"Software Requirement Specification (SRS)\"\n",
      "    },\n",
      "    {\n",
      "      \"q\": \"Which type of testing is performed by a friendly set of customers in the Waterfall Model?\",\n",
      "      \"options\": [\n",
      "        \"Alpha Testing\",\n",
      "        \"Beta Testing\",\n",
      "        \"Acceptance Testing\",\n",
      "        \"Unit Testing\"\n",
      "      ],\n",
      "      \"answer\": \"Beta Testing\"\n",
      "    },\n",
      "    {\n",
      "      \"q\": \"Which of the following is NOT a step in Requirements Engineering?\",\n",
      "      \"options\": [\n",
      "        \"Requirements Elicitation\",\n",
      "        \"Requirements Analysis\",\n",
      "        \"Requirements Specification\",\n",
      "        \"System Deployment\"\n",
      "      ],\n",
      "      \"answer\": \"System Deployment\"\n",
      "    }\n",
      "  ],\n",
      "  \"rubric\": [\n",
      "    {\n",
      "      \"criteria\": \"Correct answer selected\",\n",
      "      \"points\": 2\n",
      "    },\n",
      "    {\n",
      "      \"criteria\": \"Incorrect answer selected\",\n",
      "      \"points\": 0\n",
      "    },\n",
      "    {\n",
      "      \"criteria\": \"Total possible points\",\n",
      "      \"points\": 10\n",
      "    }\n",
      "  ]\n",
      "}\n",
      "```\n"
     ]
    }
   ],
   "source": [
    "asmt_agent = AssessmentAgent()\n",
    "assessment = asmt_agent.generate_assessment(\n",
    "    \"/home/timmy/ai-teacher-assistant/static/Lecture_Slide.pdf\",\n",
    "    {\"type\": \"MCQ\", \"difficulty\": \"Medium\", \"count\": 5, \"rubric\": True}\n",
    ")\n",
    "print(assessment)"
   ]
  },
  {
   "cell_type": "code",
   "execution_count": null,
   "id": "ab481c9b",
   "metadata": {},
   "outputs": [],
   "source": [
    "display(Markdown(assessment))"
   ]
  },
  {
   "cell_type": "code",
   "execution_count": 67,
   "id": "112af454",
   "metadata": {},
   "outputs": [],
   "source": [
    "import sys\n",
    "sys.path.append('..')\n",
    "from integrations.form_creator import create_google_form\n",
    "from core.logger import logger"
   ]
  },
  {
   "cell_type": "code",
   "execution_count": null,
   "id": "52021770",
   "metadata": {},
   "outputs": [],
   "source": [
    "result = create_google_form(assessment, title = \"SDLC Quizz\")\n",
    "print(\"\\n---Results---\")\n",
    "print(result)"
   ]
  },
  {
   "cell_type": "markdown",
   "id": "709dd926",
   "metadata": {},
   "source": [
    "## Timeable Agent Test"
   ]
  },
  {
   "cell_type": "code",
   "execution_count": 3,
   "id": "3e871888",
   "metadata": {},
   "outputs": [],
   "source": [
    "import sys\n",
    "sys.path.append('..')"
   ]
  },
  {
   "cell_type": "code",
   "execution_count": 7,
   "id": "2f493bae",
   "metadata": {},
   "outputs": [
    {
     "ename": "ImportError",
     "evalue": "cannot import name 'suggest_lesson_slots' from 'agents.timetable_agent' (/home/timmy/ai-teacher-assistant/notebooks/../agents/timetable_agent.py)",
     "output_type": "error",
     "traceback": [
      "\u001b[31m---------------------------------------------------------------------------\u001b[39m",
      "\u001b[31mImportError\u001b[39m                               Traceback (most recent call last)",
      "\u001b[36mCell\u001b[39m\u001b[36m \u001b[39m\u001b[32mIn[7]\u001b[39m\u001b[32m, line 1\u001b[39m\n\u001b[32m----> \u001b[39m\u001b[32m1\u001b[39m \u001b[38;5;28;01mfrom\u001b[39;00m\u001b[38;5;250m \u001b[39m\u001b[34;01magents\u001b[39;00m\u001b[34;01m.\u001b[39;00m\u001b[34;01mtimetable_agent\u001b[39;00m\u001b[38;5;250m \u001b[39m\u001b[38;5;28;01mimport\u001b[39;00m suggest_lesson_slots\n",
      "\u001b[31mImportError\u001b[39m: cannot import name 'suggest_lesson_slots' from 'agents.timetable_agent' (/home/timmy/ai-teacher-assistant/notebooks/../agents/timetable_agent.py)"
     ]
    }
   ],
   "source": [
    "from agents.timetable_agent import suggest_lesson_slots"
   ]
  },
  {
   "cell_type": "markdown",
   "id": "a11adbdc",
   "metadata": {},
   "source": [
    "## Email Writer Test"
   ]
  },
  {
   "cell_type": "code",
   "execution_count": 2,
   "id": "5a09e075",
   "metadata": {},
   "outputs": [],
   "source": [
    "import sys\n",
    "sys.path.append('..')\n",
    "from integrations.email_writer import parse_prompt_to_fields, draft_email\n",
    "from core.logger import logger"
   ]
  },
  {
   "cell_type": "code",
   "execution_count": 3,
   "id": "0e032791",
   "metadata": {},
   "outputs": [
    {
     "name": "stderr",
     "output_type": "stream",
     "text": [
      "2025-08-23 01:22:50 | INFO | agent | Email fields parsed successfully: ['to_email', 'to_name', 'tone', 'cc', 'bcc', 'action', 'subject_override', 'notes']\n"
     ]
    },
    {
     "name": "stdout",
     "output_type": "stream",
     "text": [
      "Parsed fields:\n",
      "  to_email: thanthtoosan.mechatronic@gmail.com\n",
      "  to_name: \n",
      "  tone: professional\n",
      "  cc: \n",
      "  bcc: \n",
      "  action: send\n",
      "  subject_override: \n",
      "  notes: Email should inform about the upcoming meeting scheduled for tomorrow at 2 PM.\n"
     ]
    },
    {
     "name": "stderr",
     "output_type": "stream",
     "text": [
      "2025-08-23 01:22:54 | INFO | agent | Email content drafted successfully with subject: Reminder: Meeting Scheduled for Tomorrow at 2 PM\n"
     ]
    },
    {
     "name": "stdout",
     "output_type": "stream",
     "text": [
      "Drafted email:\n",
      "  Subject: Reminder: Meeting Scheduled for Tomorrow at 2 PM\n",
      "  Plain text: Hi John,\n",
      "\n",
      "I hope this message finds you well. I wanted to send a quick reminder about our meeting sc...\n",
      "  HTML: <p>Hi John,</p>\n",
      "<p>I hope this message finds you well. I wanted to send a quick reminder about our m...\n"
     ]
    }
   ],
   "source": [
    "test_prompt = \"Send an email to thanthtoosan.mechatronic@gmail.com about the upcoming meeting tomorrow at 2 PM. Make it professional.\"\n",
    "parsed = parse_prompt_to_fields(test_prompt)\n",
    "print(\"Parsed fields:\")\n",
    "for key, value in parsed.items():\n",
    "    print(f\"  {key}: {value}\")\n",
    "\n",
    "drafted = draft_email(\"John\", \"Reminder about tomorrow's meeting at 2 PM\", \"professional, friendly\")\n",
    "print(\"Drafted email:\")\n",
    "print(f\"  Subject: {drafted['subject']}\")\n",
    "print(f\"  Plain text: {drafted['plain'][:100]}...\")\n",
    "print(f\"  HTML: {drafted['html'][:100]}...\")"
   ]
  },
  {
   "cell_type": "markdown",
   "id": "054b3c99",
   "metadata": {},
   "source": [
    "## Gmail Tool Test"
   ]
  },
  {
   "cell_type": "code",
   "execution_count": 4,
   "id": "e1de64bc",
   "metadata": {},
   "outputs": [],
   "source": [
    "from integrations.gmail_tool import create_message"
   ]
  },
  {
   "cell_type": "code",
   "execution_count": 5,
   "id": "4101ef0d",
   "metadata": {},
   "outputs": [
    {
     "name": "stdout",
     "output_type": "stream",
     "text": [
      "Message created successfully: <class 'dict'>\n",
      "Message keys: ['raw', 'bcc']\n",
      "Raw message length: 500\n"
     ]
    }
   ],
   "source": [
    "msg = create_message(\n",
    "    to=\"test@example.com\",\n",
    "    subject=\"Test Subject\",\n",
    "    body_text=\"This is a test message body\",\n",
    "    body_html=\"<p>This is a <strong>test</strong> message body</p>\"\n",
    ")\n",
    "print(f\"Message created successfully: {type(msg)}\")\n",
    "print(f\"Message keys: {list(msg.keys())}\")\n",
    "print(f\"Raw message length: {len(msg['raw'])}\")"
   ]
  },
  {
   "cell_type": "markdown",
   "id": "5def257b",
   "metadata": {},
   "source": [
    "## Email Agent Test"
   ]
  },
  {
   "cell_type": "code",
   "execution_count": 6,
   "id": "cca1c1bc",
   "metadata": {},
   "outputs": [],
   "source": [
    "from agents.email_agent import EmailAgent"
   ]
  },
  {
   "cell_type": "code",
   "execution_count": 9,
   "id": "063084fc",
   "metadata": {},
   "outputs": [
    {
     "name": "stderr",
     "output_type": "stream",
     "text": [
      "2025-08-23 01:31:43 | INFO | agent | Initializing Gmail service with credentials: /home/timmy/ai-teacher-assistant/credentials.json\n",
      "2025-08-23 01:31:43 | INFO | agent | Gmail service initialized successfully\n"
     ]
    },
    {
     "name": "stdout",
     "output_type": "stream",
     "text": [
      "=== Testing Email Agent Initialization ===\n"
     ]
    },
    {
     "name": "stderr",
     "output_type": "stream",
     "text": [
      "2025-08-23 01:31:44 | INFO | agent | Gmail service initialized successfully. Sender: timmythaw17@gmail.com\n",
      "2025-08-23 01:31:44 | INFO | agent | EmailAgent started with prompt: Send an email to thanthtoosan.mechatronic@gmail.com about testing the email system. Make it friendly...\n"
     ]
    },
    {
     "name": "stdout",
     "output_type": "stream",
     "text": [
      "✓ Email agent initialized successfully\n",
      "  Sender email: timmythaw17@gmail.com\n",
      "  Model: openai/gpt-5-chat-latest\n",
      "\n",
      "=== Testing Email Agent Flow ===\n"
     ]
    },
    {
     "name": "stderr",
     "output_type": "stream",
     "text": [
      "2025-08-23 01:31:45 | INFO | agent | Email fields parsed successfully: ['to_email', 'to_name', 'tone', 'cc', 'bcc', 'action', 'subject_override', 'notes']\n",
      "2025-08-23 01:31:49 | INFO | agent | Email content drafted successfully with subject: Test Email for System Check\n",
      "2025-08-23 01:31:49 | INFO | agent | Email content drafted successfully\n",
      "2025-08-23 01:31:57 | INFO | agent | Email sent successfully with ID: 198d30d1dd6d323e\n",
      "2025-08-23 01:31:57 | INFO | agent | Email sent successfully with ID: 198d30d1dd6d323e\n",
      "2025-08-23 01:31:57 | INFO | agent | Email operation completed successfully: send\n"
     ]
    },
    {
     "name": "stdout",
     "output_type": "stream",
     "text": [
      "Email agent test result:\n",
      "  Success: True\n",
      "  Mode: send\n",
      "  To: thanthtoosan.mechatronic@gmail.com\n",
      "  Subject: Test Email for System Check\n"
     ]
    }
   ],
   "source": [
    "print(\"=== Testing Email Agent Initialization ===\")\n",
    "try:\n",
    "    agent = EmailAgent()\n",
    "    print(f\"✓ Email agent initialized successfully\")\n",
    "    print(f\"  Sender email: {agent.sender}\")\n",
    "    print(f\"  Model: {agent.model}\")\n",
    "except FileNotFoundError as e:\n",
    "    print(f\"⚠ Email agent test skipped - credentials.json not found (expected)\")\n",
    "    print(f\"  Error: {e}\")\n",
    "except Exception as e:\n",
    "    print(f\"✗ Email agent initialization failed: {e}\")\n",
    "\n",
    "# Test email agent with simple prompt\n",
    "print(\"\\n=== Testing Email Agent Flow ===\")\n",
    "if 'agent' in locals() and hasattr(agent, 'sender'):\n",
    "    try:\n",
    "        test_result = agent.run(\n",
    "            \"Send an email to thanthtoosan.mechatronic@gmail.com about testing the email system. \"\n",
    "            \"Make it friendly and brief.\"\n",
    "        )\n",
    "        print(\"Email agent test result:\")\n",
    "        print(f\"  Success: {test_result.get('ok', False)}\")\n",
    "        print(f\"  Mode: {test_result.get('mode', 'N/A')}\")\n",
    "        if test_result.get('ok'):\n",
    "            print(f\"  To: {test_result.get('to', 'N/A')}\")\n",
    "            print(f\"  Subject: {test_result.get('subject', 'N/A')}\")\n",
    "    except Exception as e:\n",
    "        print(f\"⚠ Email sending test failed: {e}\")\n",
    "else:\n",
    "    print(\"⚠ Skipping email sending test - agent not properly initialized\")"
   ]
  },
  {
   "cell_type": "code",
   "execution_count": null,
   "id": "8b40b8bd",
   "metadata": {},
   "outputs": [],
   "source": []
  }
 ],
 "metadata": {
  "kernelspec": {
   "display_name": ".venv",
   "language": "python",
   "name": "python3"
  },
  "language_info": {
   "codemirror_mode": {
    "name": "ipython",
    "version": 3
   },
   "file_extension": ".py",
   "mimetype": "text/x-python",
   "name": "python",
   "nbconvert_exporter": "python",
   "pygments_lexer": "ipython3",
   "version": "3.12.3"
  }
 },
 "nbformat": 4,
 "nbformat_minor": 5
}
