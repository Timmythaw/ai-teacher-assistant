{
 "cells": [
  {
   "cell_type": "code",
   "execution_count": 2,
   "metadata": {},
   "outputs": [
    {
     "name": "stdout",
     "output_type": "stream",
     "text": [
      "Assistant raw reply: {\"action\": \"fetch_calendar_events\", \"args\": {\"days_ahead\": 7}}\n",
      "Tool requested: {'action': 'fetch_calendar_events', 'args': {'days_ahead': 7}}\n",
      "Final suggestion: Based on the provided calendar events, here are three suitable 1-hour slots for an Algebra class during weekdays from 9am to 5pm:\n",
      "\n",
      "1. **Monday, August 18, 2025**: 9:00am - 10:00am\n",
      "2. **Wednesday, August 20, 2025**: 10:00am - 11:00am\n",
      "3. **Friday, August 22, 2025**: 11:00am - 12:00pm\n",
      "\n",
      "These slots avoid conflicts with the existing events and fall within the specified time range.\n"
     ]
    }
   ],
   "source": [
    "import sys\n",
    "sys.path.append(\"..\")\n",
    "from agents.timetable_agent import timetable_agent\n",
    "\n",
    "output = timetable_agent(\n",
    "    \"Suggest 3 suitable 1-hour slots in the next week for Algebra class during weekdays 9am–5pm.\"\n",
    ")\n",
    "print(\"Final suggestion:\", output)"
   ]
  },
  {
   "cell_type": "markdown",
   "id": "9d8d9bb7",
   "metadata": {},
   "source": [
    "## Calendar integration Test"
   ]
  },
  {
   "cell_type": "code",
   "execution_count": 7,
   "id": "49170e6c",
   "metadata": {},
   "outputs": [],
   "source": [
    "import sys\n",
    "sys.path.append('..')\n",
    "from integrations.calendar_tool import fetch_calendar_events"
   ]
  },
  {
   "cell_type": "code",
   "execution_count": 8,
   "id": "d9c633ec",
   "metadata": {},
   "outputs": [
    {
     "name": "stderr",
     "output_type": "stream",
     "text": [
      "2025-08-22 14:30:14 | INFO | agent | Fetching calendar events for next 7 days\n",
      "2025-08-22 14:30:15 | INFO | agent | Retrieved 2 events from Google Calendar\n"
     ]
    }
   ],
   "source": [
    "events = fetch_calendar_events(days_ahead=7)"
   ]
  },
  {
   "cell_type": "code",
   "execution_count": 9,
   "id": "f91ffd5c",
   "metadata": {},
   "outputs": [
    {
     "name": "stdout",
     "output_type": "stream",
     "text": [
      "2025-08-22T15:00:00+07:00 Learning reminder\n",
      "2025-08-23T18:30:00+07:00 📚💪 AI ML GaI Study Session\n"
     ]
    }
   ],
   "source": [
    "if isinstance(events, dict) and \"error\" in events:\n",
    "    print(\"❌ Error:\", events[\"error\"])\n",
    "else:\n",
    "    for e in events:\n",
    "        print(e[\"start\"].get(\"dateTime\", e[\"start\"].get(\"date\")), e[\"summary\"])"
   ]
  }
 ],
 "metadata": {
  "kernelspec": {
   "display_name": ".venv",
   "language": "python",
   "name": "python3"
  },
  "language_info": {
   "codemirror_mode": {
    "name": "ipython",
    "version": 3
   },
   "file_extension": ".py",
   "mimetype": "text/x-python",
   "name": "python",
   "nbconvert_exporter": "python",
   "pygments_lexer": "ipython3",
   "version": "3.12.3"
  }
 },
 "nbformat": 4,
 "nbformat_minor": 5
}
