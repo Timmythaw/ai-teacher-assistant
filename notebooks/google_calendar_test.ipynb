{
 "cells": [
  {
   "cell_type": "code",
   "execution_count": null,
   "id": "ef8b3a27",
   "metadata": {},
   "outputs": [],
   "source": [
    "from __future__ import print_function\n",
    "import os\n",
    "import datetime\n",
    "\n",
    "from google.auth.transport.requests import Request\n",
    "from google.oauth2.credentials import Credentials\n",
    "from google_auth_oauthlib.flow import InstalledAppFlow\n",
    "from googleapiclient.discovery import build"
   ]
  },
  {
   "cell_type": "code",
   "execution_count": 16,
   "id": "37f4bf42",
   "metadata": {},
   "outputs": [],
   "source": [
    "SCOPES = [\"https://www.googleapis.com/auth/calendar.readonly\"]\n",
    "def get_calendar_service():\n",
    "    creds = None\n",
    "    # token.json stores the user's access and refresh tokens\n",
    "    if os.path.exists(\"token.json\"):\n",
    "        creds = Credentials.from_authorized_user_file(\"token.json\", SCOPES)\n",
    "    # If there are no valid creds, let user log in\n",
    "    if not creds or not creds.valid:\n",
    "        if creds and creds.expired and creds.refresh_token:\n",
    "            creds.refresh(Request())\n",
    "        else:\n",
    "            flow = InstalledAppFlow.from_client_secrets_file(\"/home/timmy/ai-teacher-assistant/credentials.json\", SCOPES)\n",
    "            creds = flow.run_local_server(port = 8080)\n",
    "        # Save creds for next run\n",
    "        with open(\"token.json\", \"w\") as token:\n",
    "            token.write(creds.to_json())\n",
    "    return build(\"calendar\", \"v3\", credentials=creds)"
   ]
  },
  {
   "cell_type": "code",
   "execution_count": 17,
   "id": "f84c6cea",
   "metadata": {},
   "outputs": [
    {
     "name": "stdout",
     "output_type": "stream",
     "text": [
      "Please visit this URL to authorize this application: https://accounts.google.com/o/oauth2/auth?response_type=code&client_id=840970484260-019tusa2dnknt9s8445n1m0185sl1qn8.apps.googleusercontent.com&redirect_uri=http%3A%2F%2Flocalhost%3A8080%2F&scope=https%3A%2F%2Fwww.googleapis.com%2Fauth%2Fcalendar.readonly&state=oYbwqvoQf76aPeAxWTJHpIykPYc2KN&access_type=offline\n"
     ]
    },
    {
     "name": "stderr",
     "output_type": "stream",
     "text": [
      "gio: https://accounts.google.com/o/oauth2/auth?response_type=code&client_id=840970484260-019tusa2dnknt9s8445n1m0185sl1qn8.apps.googleusercontent.com&redirect_uri=http%3A%2F%2Flocalhost%3A8080%2F&scope=https%3A%2F%2Fwww.googleapis.com%2Fauth%2Fcalendar.readonly&state=oYbwqvoQf76aPeAxWTJHpIykPYc2KN&access_type=offline: Operation not supported\n",
      "/tmp/ipykernel_50360/3816084315.py:3: DeprecationWarning: datetime.datetime.utcnow() is deprecated and scheduled for removal in a future version. Use timezone-aware objects to represent datetimes in UTC: datetime.datetime.now(datetime.UTC).\n",
      "  now = datetime.datetime.utcnow().isoformat() + \"Z\"\n"
     ]
    },
    {
     "name": "stdout",
     "output_type": "stream",
     "text": [
      "Getting upcoming 10 events\n"
     ]
    }
   ],
   "source": [
    "# Test: List next 10 events\n",
    "service = get_calendar_service()\n",
    "now = datetime.datetime.utcnow().isoformat() + \"Z\"\n",
    "print(\"Getting upcoming 10 events\")\n",
    "events_result = service.events().list(calendarId=\"primary\", timeMin=now,\n",
    "                                      maxResults=10, singleEvents=True,\n",
    "                                      orderBy=\"startTime\").execute()\n",
    "events = events_result.get(\"items\", [])"
   ]
  },
  {
   "cell_type": "code",
   "execution_count": null,
   "id": "a31f9aba-b988-4adb-8c94-5bfca304833f",
   "metadata": {},
   "outputs": [],
   "source": [
    "if not events:\n",
    "    print(\"No upcoming events found.\")\n",
    "for event in events:\n",
    "    start = event[\"start\"].get(\"dateTime\", event[\"start\"].get(\"date\"))\n",
    "    print(start, event[\"summary\"])"
   ]
  }
 ],
 "metadata": {
  "kernelspec": {
   "display_name": ".venv",
   "language": "python",
   "name": "python3"
  },
  "language_info": {
   "codemirror_mode": {
    "name": "ipython",
    "version": 3
   },
   "file_extension": ".py",
   "mimetype": "text/x-python",
   "name": "python",
   "nbconvert_exporter": "python",
   "pygments_lexer": "ipython3",
   "version": "3.12.3"
  }
 },
 "nbformat": 4,
 "nbformat_minor": 5
}
